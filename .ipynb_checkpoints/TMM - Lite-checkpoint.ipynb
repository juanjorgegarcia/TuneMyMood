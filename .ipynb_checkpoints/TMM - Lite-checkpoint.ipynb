{
 "cells": [
  {
   "cell_type": "code",
   "execution_count": 1,
   "metadata": {
    "collapsed": true
   },
   "outputs": [],
   "source": [
    "%matplotlib inline\n",
    "import pandas as pd\n",
    "import matplotlib.pyplot as plt\n",
    "import numpy as np\n",
    "import os\n",
    "from sklearn.naive_bayes import MultinomialNB\n",
    "from sklearn.feature_extraction import DictVectorizer\n",
    "vec=DictVectorizer()\n",
    "import spotipy \n",
    "from spotipy.oauth2 import SpotifyClientCredentials\n",
    "from sklearn.svm import SVC\n"
   ]
  },
  {
   "cell_type": "code",
   "execution_count": 4,
   "metadata": {},
   "outputs": [],
   "source": [
    "###       TuneMyMood 0.83\n",
    "#  date:14/11/2017\n",
    "#\n",
    "#\n",
    "# Opções de Gênero: Rock, Eletronica, Funk, Metal, Sertanejo\n",
    "#\n",
    "#\n",
    "# Opções de tema: Relax, Party, Focus, Gym\n",
    "#\n",
    "#\n",
    "#\n",
    "\n",
    "funk_df = pd.read_csv(\"funk_df.csv\")\n",
    "rock_df = pd.read_csv(\"rock_df.csv\")\n",
    "eletronica_df = pd.read_csv(\"eletronica_df.csv\")\n",
    "metal_df = pd.read_csv(\"metal_df.csv\")\n",
    "sertanejo_df = pd.read_csv(\"sertanejo_df.csv\")\n",
    "funk_df = pd.read_csv(\"funk_df.csv\")\n",
    "\n",
    "#\n",
    "\n"
   ]
  },
  {
   "cell_type": "code",
   "execution_count": null,
   "metadata": {
    "collapsed": true
   },
   "outputs": [],
   "source": []
  }
 ],
 "metadata": {
  "kernelspec": {
   "display_name": "Python 3",
   "language": "python",
   "name": "python3"
  },
  "language_info": {
   "codemirror_mode": {
    "name": "ipython",
    "version": 3
   },
   "file_extension": ".py",
   "mimetype": "text/x-python",
   "name": "python",
   "nbconvert_exporter": "python",
   "pygments_lexer": "ipython3",
   "version": "3.6.3"
  }
 },
 "nbformat": 4,
 "nbformat_minor": 2
}
