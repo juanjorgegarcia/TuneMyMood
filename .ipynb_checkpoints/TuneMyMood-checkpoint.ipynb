{
 "cells": [
  {
   "cell_type": "code",
   "execution_count": 3,
   "metadata": {
    "collapsed": true
   },
   "outputs": [],
   "source": [
    "%matplotlib inline\n",
    "import pandas as pd\n",
    "import matplotlib.pyplot as plt\n",
    "import numpy as np\n",
    "import os\n",
    "from sklearn.naive_bayes import MultinomialNB\n",
    "from sklearn.feature_extraction import DictVectorizer\n",
    "vec=DictVectorizer()\n"
   ]
  },
  {
   "cell_type": "code",
   "execution_count": 4,
   "metadata": {},
   "outputs": [
    {
     "name": "stdout",
     "output_type": "stream",
     "text": [
      "Esperamos trabalhar no diretório\n",
      "C:\\Users\\JUAN\\Documents\\GitHub\\TuneMyMood\n"
     ]
    }
   ],
   "source": [
    "print('Esperamos trabalhar no diretório')\n",
    "print(os.getcwd())"
   ]
  },
  {
   "cell_type": "code",
   "execution_count": 52,
   "metadata": {
    "collapsed": true
   },
   "outputs": [],
   "source": [
    "class Dataset:\n",
    "    #classe para formatação e analise de datasets\n",
    "    \n",
    "    def __init__(self,df): #df será passado como string do diretorio do csv\n",
    "        self.df=pd.read_csv(df)\n",
    "        #self.df=self.df.iloc[:,1:14]\n",
    "        #self.attributes=self.df.tolist()\n",
    "        self.df[\"loudness\"]*=-1\n",
    "        self.dict=self.df.iloc[:,1:14].to_dict('records')\n",
    "        self.ans=self.df[\"study\"].tolist()\n",
    "        self.vec=DictVectorizer()\n",
    "        self.nb=MultinomialNB()\n",
    "        self.train_songs=self.vec.fit_transform(self.dict).toarray()\n",
    "        \n",
    "    def train(self):\n",
    "        \n",
    "        self.nb.fit(self.train_songs,self.ans)\n",
    "        return \"<R2D2>AS THE TIME PASSES BY, THE MORE I LEARN <R2D2>\"\n",
    "        \n",
    "    def check_score(self,new_songs):\n",
    "        return self.nb.score(new_songs.train_songs,new_songs.ans)\n",
    "    \n",
    "    \n",
    "    def evaluate(self,new_songs,cat_number): #cat_number= numero de categorias (ex: muito ruim,ruim,medio,bom,otimo (5) )\n",
    "        return self.nb.predict(new_songs.train_songs)\n",
    "            \n",
    "        \n",
    "        \n",
    "        \n",
    "    "
   ]
  },
  {
   "cell_type": "code",
   "execution_count": 54,
   "metadata": {},
   "outputs": [
    {
     "data": {
      "text/plain": [
       "0.43333333333333335"
      ]
     },
     "execution_count": 54,
     "metadata": {},
     "output_type": "execute_result"
    }
   ],
   "source": [
    "test=Dataset(\"trained.csv\")\n",
    "\n",
    "new_songs=Dataset(\"trained2.csv\")\n",
    "\n",
    "test.train()\n",
    "\n",
    "test.check_score(new_songs)\n"
   ]
  },
  {
   "cell_type": "code",
   "execution_count": null,
   "metadata": {},
   "outputs": [],
   "source": []
  },
  {
   "cell_type": "code",
   "execution_count": null,
   "metadata": {
    "collapsed": true
   },
   "outputs": [],
   "source": []
  },
  {
   "cell_type": "code",
   "execution_count": null,
   "metadata": {
    "collapsed": true
   },
   "outputs": [],
   "source": []
  }
 ],
 "metadata": {
  "kernelspec": {
   "display_name": "Python 3",
   "language": "python",
   "name": "python3"
  },
  "language_info": {
   "codemirror_mode": {
    "name": "ipython",
    "version": 3
   },
   "file_extension": ".py",
   "mimetype": "text/x-python",
   "name": "python",
   "nbconvert_exporter": "python",
   "pygments_lexer": "ipython3",
   "version": "3.6.0"
  }
 },
 "nbformat": 4,
 "nbformat_minor": 2
}
