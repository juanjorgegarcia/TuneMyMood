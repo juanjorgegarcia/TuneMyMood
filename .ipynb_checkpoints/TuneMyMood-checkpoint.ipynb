{
 "cells": [
  {
   "cell_type": "code",
   "execution_count": 1,
   "metadata": {
    "collapsed": true
   },
   "outputs": [],
   "source": [
    "%matplotlib inline\n",
    "import pandas as pd\n",
    "import matplotlib.pyplot as plt\n",
    "import numpy as np\n",
    "import os\n",
    "from sklearn.naive_bayes import MultinomialNB\n",
    "from sklearn.feature_extraction import DictVectorizer\n",
    "vec=DictVectorizer()\n",
    "import spotipy \n",
    "from spotipy.oauth2 import SpotifyClientCredentials\n",
    "from sklearn.svm import SVC\n",
    "from tmm_functions import *\n",
    "\n",
    "#cid=data[0].strip()\n",
    "#secret=data[1].strip()"
   ]
  },
  {
   "cell_type": "code",
   "execution_count": 2,
   "metadata": {},
   "outputs": [
    {
     "name": "stdout",
     "output_type": "stream",
     "text": [
      "Esperamos trabalhar no diretório\n",
      "C:\\Users\\JUAN\\Documents\\GitHub\\TuneMyMood\n"
     ]
    }
   ],
   "source": [
    "print('Esperamos trabalhar no diretório')\n",
    "print(os.getcwd())"
   ]
  },
  {
   "cell_type": "code",
   "execution_count": 3,
   "metadata": {
    "collapsed": true
   },
   "outputs": [],
   "source": [
    "with open('login.txt') as f: \n",
    "    data = f.readlines()\n",
    "     "
   ]
  },
  {
   "cell_type": "code",
   "execution_count": null,
   "metadata": {},
   "outputs": [],
   "source": []
  },
  {
   "cell_type": "code",
   "execution_count": 4,
   "metadata": {
    "scrolled": true
   },
   "outputs": [
    {
     "name": "stdout",
     "output_type": "stream",
     "text": [
      "This is the SVC score: 0.36666666666666664\n",
      "This is the NB score: 0.5\n"
     ]
    }
   ],
   "source": [
    "test=Dataset(\"trained.csv\")\n",
    "\n",
    "new_songs=Dataset(\"trained2.csv\")\n",
    "\n",
    "ash=Trainer()\n",
    "\n",
    "ash.train(\"test\",test)\n",
    "\n",
    "ash.check_score(\"test\",new_songs)\n",
    "\n"
   ]
  },
  {
   "cell_type": "code",
   "execution_count": 5,
   "metadata": {},
   "outputs": [],
   "source": [
    "client=User(data)\n",
    "not_funk=client.playlist_downloader(\"paradox spiral\",'12122112252','4INhsCJeBocKPzB79iPbMk')"
   ]
  },
  {
   "cell_type": "code",
   "execution_count": null,
   "metadata": {
    "collapsed": true
   },
   "outputs": [],
   "source": []
  },
  {
   "cell_type": "code",
   "execution_count": 6,
   "metadata": {
    "collapsed": true
   },
   "outputs": [],
   "source": [
    "is_funk=client.playlist_downloader(\"funk_juan\",\"12144879613\",\"4cZ6B4WujgwaQP2D2vbOn8\")"
   ]
  },
  {
   "cell_type": "code",
   "execution_count": 7,
   "metadata": {},
   "outputs": [],
   "source": [
    "is_funk[\"ans\"]=1\n",
    "not_funk[\"ans\"]=0\n"
   ]
  },
  {
   "cell_type": "code",
   "execution_count": 8,
   "metadata": {
    "collapsed": true
   },
   "outputs": [],
   "source": [
    "funk_concat=pd.concat([not_funk,is_funk])\n",
    "\n"
   ]
  },
  {
   "cell_type": "code",
   "execution_count": null,
   "metadata": {
    "collapsed": true
   },
   "outputs": [],
   "source": []
  },
  {
   "cell_type": "code",
   "execution_count": 9,
   "metadata": {},
   "outputs": [
    {
     "data": {
      "text/plain": [
       "'The new dataset was trained and saved'"
      ]
     },
     "execution_count": 9,
     "metadata": {},
     "output_type": "execute_result"
    }
   ],
   "source": [
    "funk_training=Dataset(funk_concat)\n",
    "\n",
    "ash.train(\"funk\",funk_training)\n"
   ]
  },
  {
   "cell_type": "code",
   "execution_count": 10,
   "metadata": {
    "collapsed": true
   },
   "outputs": [],
   "source": [
    "is_funk_test= client.playlist_downloader(\"funk\",\"spotify\",\"37i9dQZF1DWYYeOy9vs7I5\")\n",
    "not_funk_test= client.playlist_downloader(\"blank banshee\",\"11128845131\",\"6zQDJx3HwQKACmjTku7tdW\")"
   ]
  },
  {
   "cell_type": "code",
   "execution_count": 11,
   "metadata": {
    "collapsed": true
   },
   "outputs": [],
   "source": [
    "is_funk_test[\"ans\"]=1\n",
    "not_funk_test[\"ans\"]=0\n",
    "\n",
    "test_funk_concat=pd.concat([is_funk_test,not_funk_test])"
   ]
  },
  {
   "cell_type": "code",
   "execution_count": 12,
   "metadata": {
    "collapsed": true
   },
   "outputs": [],
   "source": [
    "test_funk=Dataset(test_funk_concat)"
   ]
  },
  {
   "cell_type": "code",
   "execution_count": 13,
   "metadata": {},
   "outputs": [
    {
     "name": "stdout",
     "output_type": "stream",
     "text": [
      "This is the SVC score: 0.7254901960784313\n",
      "This is the NB score: 0.6666666666666666\n"
     ]
    }
   ],
   "source": [
    "ash.check_score(\"funk\",test_funk)"
   ]
  },
  {
   "cell_type": "code",
   "execution_count": 25,
   "metadata": {
    "scrolled": true
   },
   "outputs": [
    {
     "data": {
      "text/plain": [
       "'The result of the evaluation is now saved'"
      ]
     },
     "execution_count": 25,
     "metadata": {},
     "output_type": "execute_result"
    }
   ],
   "source": [
    "ash.evaluate('funk',test_funk)\n"
   ]
  },
  {
   "cell_type": "code",
   "execution_count": 15,
   "metadata": {},
   "outputs": [
    {
     "data": {
      "text/plain": [
       "array([  1.89000000e-01,   8.14000000e-01,   0.00000000e+00,\n",
       "         3.00000000e+00,   8.76000000e-02,   2.00000000e-02,\n",
       "         0.00000000e+00,   3.59000000e-02,   1.30099000e+02,\n",
       "         4.00000000e+00,   7.06000000e-01])"
      ]
     },
     "execution_count": 15,
     "metadata": {},
     "output_type": "execute_result"
    }
   ],
   "source": [
    "test_funk.train_songs[0]"
   ]
  },
  {
   "cell_type": "code",
   "execution_count": null,
   "metadata": {
    "collapsed": true
   },
   "outputs": [],
   "source": []
  },
  {
   "cell_type": "code",
   "execution_count": 16,
   "metadata": {},
   "outputs": [
    {
     "data": {
      "text/plain": [
       "'The new dataset was trained and saved'"
      ]
     },
     "execution_count": 16,
     "metadata": {},
     "output_type": "execute_result"
    }
   ],
   "source": [
    "client.playlist_downloader(\"chillstep/trap/future\",'12122168529',\"5DeNP7MuwXgAHF2qgyOM4v\")\n",
    "\n",
    "client.playlists[\"chillstep/trap/future\"][\"ans\"]=1\n",
    "client.playlists[\"funk\"][\"ans\"]=0\n",
    "\n",
    "fred_dt=pd.concat([client.playlists[\"chillstep/trap/future\"],client.playlists[\"funk\"]])\n",
    "\n",
    "fred_tastes=Dataset(fred_dt)\n",
    "\n",
    "ash.train('fred',fred_tastes)\n"
   ]
  },
  {
   "cell_type": "code",
   "execution_count": null,
   "metadata": {
    "collapsed": true
   },
   "outputs": [],
   "source": []
  },
  {
   "cell_type": "code",
   "execution_count": 17,
   "metadata": {},
   "outputs": [
    {
     "name": "stdout",
     "output_type": "stream",
     "text": [
      "This is the SVC score: 0.7795275590551181\n",
      "This is the NB score: 0.7874015748031497\n"
     ]
    }
   ],
   "source": [
    "client.playlist_downloader(\"soul touching\",\"lucasvaz97\",\"00LBQEoraAgSitcCnbndWi\")\n",
    "client.playlists[\"soul touching\"][\"ans\"]=0\n",
    "client.playlists[\"paradox spiral\"][\"ans\"]=1\n",
    "\n",
    "fred_r=pd.concat([client.playlists[\"paradox spiral\"],client.playlists[\"soul touching\"]])\n",
    "fred_r\n",
    "\n",
    "fred_mood=Dataset(fred_r)\n",
    "#fred_mood.train_songs[1]\n",
    "ash.check_score('fred',fred_mood)"
   ]
  },
  {
   "cell_type": "code",
   "execution_count": 18,
   "metadata": {},
   "outputs": [
    {
     "data": {
      "text/plain": [
       "'The result of the evaluation is now saved'"
      ]
     },
     "execution_count": 18,
     "metadata": {},
     "output_type": "execute_result"
    }
   ],
   "source": [
    "fred_mood.df=fred_mood.df.reset_index(drop=True)\n",
    "\n",
    "ash.evaluate('fred',fred_mood)\n"
   ]
  },
  {
   "cell_type": "code",
   "execution_count": null,
   "metadata": {},
   "outputs": [],
   "source": []
  },
  {
   "cell_type": "code",
   "execution_count": null,
   "metadata": {
    "collapsed": true
   },
   "outputs": [],
   "source": []
  },
  {
   "cell_type": "code",
   "execution_count": null,
   "metadata": {
    "collapsed": true
   },
   "outputs": [],
   "source": []
  },
  {
   "cell_type": "code",
   "execution_count": null,
   "metadata": {
    "collapsed": true
   },
   "outputs": [],
   "source": []
  },
  {
   "cell_type": "code",
   "execution_count": null,
   "metadata": {
    "collapsed": true
   },
   "outputs": [],
   "source": []
  }
 ],
 "metadata": {
  "kernelspec": {
   "display_name": "Python 3",
   "language": "python",
   "name": "python3"
  },
  "language_info": {
   "codemirror_mode": {
    "name": "ipython",
    "version": 3
   },
   "file_extension": ".py",
   "mimetype": "text/x-python",
   "name": "python",
   "nbconvert_exporter": "python",
   "pygments_lexer": "ipython3",
   "version": "3.6.0"
  }
 },
 "nbformat": 4,
 "nbformat_minor": 2
}
