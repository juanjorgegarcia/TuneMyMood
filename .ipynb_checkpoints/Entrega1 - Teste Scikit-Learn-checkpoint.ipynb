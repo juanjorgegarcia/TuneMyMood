{
 "cells": [
  {
   "cell_type": "code",
   "execution_count": 1,
   "metadata": {
    "collapsed": true
   },
   "outputs": [],
   "source": [
    "%matplotlib inline\n",
    "import pandas as pd\n",
    "import matplotlib.pyplot as plt\n",
    "import numpy as np\n",
    "import os"
   ]
  },
  {
   "cell_type": "code",
   "execution_count": 2,
   "metadata": {},
   "outputs": [
    {
     "name": "stdout",
     "output_type": "stream",
     "text": [
      "Esperamos trabalhar no diretório\n",
      "/home/juanjg/TuneMyMood\n"
     ]
    }
   ],
   "source": [
    "print('Esperamos trabalhar no diretório')\n",
    "print(os.getcwd())"
   ]
  },
  {
   "cell_type": "code",
   "execution_count": 3,
   "metadata": {},
   "outputs": [],
   "source": [
    "df=pd.read_csv(\"spotifyclassification/data.csv\")\n",
    "df_300=df.head(301)\n",
    "df_train=pd.read_csv(\"trained.csv\")\n",
    "\n",
    "df_train['study'].values.tolist()\n",
    "df_300.dtypes\n",
    "\n",
    "df_train2=pd.read_csv(\"trained2.csv\")"
   ]
  },
  {
   "cell_type": "code",
   "execution_count": 25,
   "metadata": {},
   "outputs": [
    {
     "data": {
      "text/plain": [
       "30"
      ]
     },
     "execution_count": 25,
     "metadata": {},
     "output_type": "execute_result"
    }
   ],
   "source": [
    "len(df_train2)"
   ]
  },
  {
   "cell_type": "code",
   "execution_count": 5,
   "metadata": {},
   "outputs": [
    {
     "name": "stderr",
     "output_type": "stream",
     "text": [
      "/home/juanjg/anaconda3/lib/python3.6/site-packages/ipykernel_launcher.py:4: SettingWithCopyWarning: \n",
      "A value is trying to be set on a copy of a slice from a DataFrame.\n",
      "Try using .loc[row_indexer,col_indexer] = value instead\n",
      "\n",
      "See the caveats in the documentation: http://pandas.pydata.org/pandas-docs/stable/indexing.html#indexing-view-versus-copy\n",
      "  after removing the cwd from sys.path.\n",
      "/home/juanjg/anaconda3/lib/python3.6/site-packages/ipykernel_launcher.py:8: SettingWithCopyWarning: \n",
      "A value is trying to be set on a copy of a slice from a DataFrame\n",
      "\n",
      "See the caveats in the documentation: http://pandas.pydata.org/pandas-docs/stable/indexing.html#indexing-view-versus-copy\n",
      "  \n",
      "/home/juanjg/anaconda3/lib/python3.6/site-packages/IPython/core/interactiveshell.py:2862: SettingWithCopyWarning: \n",
      "A value is trying to be set on a copy of a slice from a DataFrame\n",
      "\n",
      "See the caveats in the documentation: http://pandas.pydata.org/pandas-docs/stable/indexing.html#indexing-view-versus-copy\n",
      "  exec(code_obj, self.user_global_ns, self.user_ns)\n",
      "/home/juanjg/anaconda3/lib/python3.6/site-packages/ipykernel_launcher.py:12: SettingWithCopyWarning: \n",
      "A value is trying to be set on a copy of a slice from a DataFrame\n",
      "\n",
      "See the caveats in the documentation: http://pandas.pydata.org/pandas-docs/stable/indexing.html#indexing-view-versus-copy\n",
      "  if sys.path[0] == '':\n"
     ]
    }
   ],
   "source": [
    "# Organizando dados para teste. Todo Speechiness maior que 0.1 será considerado Study=0, menor será Study=1, indicandonque musicas\n",
    "# com pouco vocal são boas para estudar\n",
    "\n",
    "df_300['study'] = len(df_300)*[0]\n",
    "for i in range(150):\n",
    "    if df_300['speechiness'][i] > 0.1:\n",
    "        \n",
    "            df_300['study'][i] = 0\n",
    "        \n",
    "    else:\n",
    "       \n",
    "            df_300['study'][i] = 1\n",
    "        \n",
    "    "
   ]
  },
  {
   "cell_type": "code",
   "execution_count": null,
   "metadata": {
    "collapsed": true
   },
   "outputs": [],
   "source": []
  },
  {
   "cell_type": "code",
   "execution_count": 6,
   "metadata": {},
   "outputs": [
    {
     "name": "stdout",
     "output_type": "stream",
     "text": [
      "[0 1 1 1 1 1]\n",
      "[0 1 0 1 1 0]\n"
     ]
    }
   ],
   "source": [
    "from sklearn.naive_bayes import MultinomialNB\n",
    "\n",
    "#Valores que serão dados de cada musica(Vocal e Energia)\n",
    "X = []\n",
    "#Valores que serão entregues de 1(Musica boa para estudo) e 0(Musica ruim para estudo)\n",
    "train_ans = []\n",
    "\n",
    "for i in range(31):\n",
    "    X.append([df_300['speechiness'][i],df_300['energy'][i]])\n",
    "    train_ans.append(df_300['study'][i])\n",
    "    \n",
    "songs= MultinomialNB()\n",
    "\n",
    "y = np.array(train_ans)\n",
    "songs.fit(X=X,y=y)\n",
    "\n",
    "#Usando o predict podemos tentar prever 5 valores de X\n",
    "print(songs.predict(X[0:6]))\n",
    "\n",
    "#Conferindo o predict com os valores reais\n",
    "print(y[0:6])\n",
    "\n",
    "\n",
    "#É preciso denotar que por terem sido usados apenas 30 valores para a calibragem, o fit nao ficará preciso."
   ]
  },
  {
   "cell_type": "code",
   "execution_count": 7,
   "metadata": {
    "collapsed": true
   },
   "outputs": [],
   "source": [
    "df=df.iloc[:,:14] #retirando o nome da cançao e do artista\n",
    "df[\"loudness\"]*=-1 #transformando o atributo loudness em positivo\n",
    "\n",
    "#df_train[\"study\"].tolist() #passando o dataframe para uma lista"
   ]
  },
  {
   "cell_type": "code",
   "execution_count": 8,
   "metadata": {},
   "outputs": [],
   "source": [
    "# df_train"
   ]
  },
  {
   "cell_type": "code",
   "execution_count": 26,
   "metadata": {},
   "outputs": [
    {
     "data": {
      "text/plain": [
       "[43    Monster\n",
       " Name: song_title, dtype: object, 46    Fantastic Man\n",
       " Name: song_title, dtype: object, 49    Odofo Nyi Akyiri Biara\n",
       " Name: song_title, dtype: object, 53    Wishes\n",
       " Name: song_title, dtype: object, 59    California Nights\n",
       " Name: song_title, dtype: object]"
      ]
     },
     "execution_count": 26,
     "metadata": {},
     "output_type": "execute_result"
    }
   ],
   "source": [
    "\n",
    "train30_array=np.array(df[:31].values.tolist()).astype(np.float64) #passando o dataframe para uma lista com valores de type=float\n",
    "train30_chosen=df_train[\"study\"].tolist() #passando a as musicas classificadas (base de treino)\n",
    "\n",
    "t2_array=np.array(df[29:57].values.tolist()).astype(np.float64) #passando o dataframe para uma lista com valores de type=float\n",
    "t2_chosen=df_train[:28][\"study\"].tolist() #passando a as musicas classificadas (base de treino)\n",
    "\n",
    "\n",
    "\n",
    "train30=MultinomialNB()\n",
    "train30.fit(train30_array,train30_chosen) #fit do database de treino com as musicas classificadas\n",
    "\n",
    "study_songs=[]\n",
    "non_study_songs=[]\n",
    "maybe_songs=[]\n",
    "\n",
    "results=[]\n",
    "for i in range(30): #algoritmo fazendo sua classificação de musicas novas\n",
    "    results.append(train30.predict(df[i+30:i+31]))\n",
    "    if train30.predict(df[i+30:i+31])==2:\n",
    "        study_songs.append(df_300[\"song_title\"][i+30:i+31])\n",
    "    elif train30.predict(df[i+30:i+31])==1:\n",
    "        maybe_songs.append(df_300[\"song_title\"][i+30:i+31])\n",
    "    else:\n",
    "        non_study_songs.append(df_300[\"song_title\"][i+30:i+31])\n",
    "study_songs"
   ]
  },
  {
   "cell_type": "code",
   "execution_count": 27,
   "metadata": {},
   "outputs": [
    {
     "data": {
      "text/plain": [
       "[30    Milly Rock\n",
       " Name: song_title, dtype: object, 32    Best Friend\n",
       " Name: song_title, dtype: object, 33    Hercules\n",
       " Name: song_title, dtype: object, 34    Who Be Lovin Me (feat. ILOVEMAKONNEN)\n",
       " Name: song_title, dtype: object, 35    Check\n",
       " Name: song_title, dtype: object, 36    Poppin' My Collar\n",
       " Name: song_title, dtype: object, 37    Jumpman\n",
       " Name: song_title, dtype: object, 38    7/11\n",
       " Name: song_title, dtype: object, 39    Somebody's Watching Me\n",
       " Name: song_title, dtype: object, 41    I Don't Sell Molly No More\n",
       " Name: song_title, dtype: object, 42    Versace Python\n",
       " Name: song_title, dtype: object, 44    OOOUUU\n",
       " Name: song_title, dtype: object, 45    Return Of The Mack - C & J Street Mix\n",
       " Name: song_title, dtype: object, 47    Right Place Wrong Time\n",
       " Name: song_title, dtype: object, 48    Azon de ma gnin kpevi\n",
       " Name: song_title, dtype: object, 50    Annie\n",
       " Name: song_title, dtype: object, 51    The Chase\n",
       " Name: song_title, dtype: object, 52    Coming Home\n",
       " Name: song_title, dtype: object, 54    White Iverson\n",
       " Name: song_title, dtype: object, 55    I Know There's Gonna Be (Good Times)\n",
       " Name: song_title, dtype: object, 56    Loud Places\n",
       " Name: song_title, dtype: object, 57    L$D\n",
       " Name: song_title, dtype: object, 58    Dopeman\n",
       " Name: song_title, dtype: object]"
      ]
     },
     "execution_count": 27,
     "metadata": {},
     "output_type": "execute_result"
    }
   ],
   "source": [
    "non_study_songs"
   ]
  },
  {
   "cell_type": "code",
   "execution_count": 28,
   "metadata": {},
   "outputs": [
    {
     "data": {
      "text/plain": [
       "[31    Blasé (feat. Future & Rae Sremmurd)\n",
       " Name: song_title, dtype: object, 40    Bang That\n",
       " Name: song_title, dtype: object]"
      ]
     },
     "execution_count": 28,
     "metadata": {},
     "output_type": "execute_result"
    }
   ],
   "source": [
    "maybe_songs"
   ]
  },
  {
   "cell_type": "code",
   "execution_count": 29,
   "metadata": {},
   "outputs": [
    {
     "data": {
      "text/plain": [
       "(30, 1)"
      ]
     },
     "execution_count": 29,
     "metadata": {},
     "output_type": "execute_result"
    }
   ],
   "source": [
    "#print(df_train2[\"study\"].tolist())\n",
    "np.array(results).shape"
   ]
  },
  {
   "cell_type": "code",
   "execution_count": 30,
   "metadata": {},
   "outputs": [
    {
     "data": {
      "text/plain": [
       "28"
      ]
     },
     "execution_count": 30,
     "metadata": {},
     "output_type": "execute_result"
    }
   ],
   "source": [
    "#df_train2[\"study\"].values.reshape(1,-1).shape\n",
    "len(t2_array)"
   ]
  },
  {
   "cell_type": "code",
   "execution_count": 31,
   "metadata": {},
   "outputs": [
    {
     "data": {
      "text/plain": [
       "0.42857142857142855"
      ]
     },
     "execution_count": 31,
     "metadata": {},
     "output_type": "execute_result"
    }
   ],
   "source": [
    "train30.score(t2_array,t2_chosen) #teste dos resultados"
   ]
  },
  {
   "cell_type": "code",
   "execution_count": null,
   "metadata": {},
   "outputs": [],
   "source": [
    "# print(np.array(results))\n",
    "# formated=[]\n",
    "# for i in range(len(results)):\n",
    "#     formated.append(results[i][0])\n",
    "\n",
    "# print(formated)\n",
    "# print((df_train2[\"study\"].values.tolist()))\n",
    "# train30.score(X=np.array(results),y=(df_train2[\"study\"].values.tolist()))\n",
    "# #results"
   ]
  },
  {
   "cell_type": "code",
   "execution_count": null,
   "metadata": {},
   "outputs": [],
   "source": []
  },
  {
   "cell_type": "code",
   "execution_count": null,
   "metadata": {
    "collapsed": true
   },
   "outputs": [],
   "source": []
  }
 ],
 "metadata": {
  "kernelspec": {
   "display_name": "Python 3",
   "language": "python",
   "name": "python3"
  },
  "language_info": {
   "codemirror_mode": {
    "name": "ipython",
    "version": 3
   },
   "file_extension": ".py",
   "mimetype": "text/x-python",
   "name": "python",
   "nbconvert_exporter": "python",
   "pygments_lexer": "ipython3",
   "version": "3.6.3"
  }
 },
 "nbformat": 4,
 "nbformat_minor": 2
}
