{
 "cells": [
  {
   "cell_type": "code",
   "execution_count": 25,
   "metadata": {
    "collapsed": true
   },
   "outputs": [],
   "source": [
    "import pandas as pd\n",
    "import matplotlib.pyplot as plt\n",
    "import numpy as np\n",
    "import os\n",
    "import re\n",
    "from sklearn.naive_bayes import MultinomialNB\n",
    "from sklearn.feature_extraction import DictVectorizer\n",
    "vec=DictVectorizer()\n",
    "import spotipy \n",
    "from spotipy.oauth2 import SpotifyClientCredentials\n",
    "from sklearn.svm import SVC\n",
    "from tmm_functions import *"
   ]
  },
  {
   "cell_type": "code",
   "execution_count": 26,
   "metadata": {},
   "outputs": [
    {
     "name": "stdout",
     "output_type": "stream",
     "text": [
      "a\n"
     ]
    }
   ],
   "source": [
    "rock = pd.read_csv(\"rock_df.csv\")\n",
    "rap = pd.read_csv(\"rap_df.csv\")\n",
    "eletronica = pd.read_csv(\"eletronica_df.csv\")\n",
    "funk = pd.read_csv(\"funk_df.csv\")\n",
    "sertanejo = pd.read_csv(\"sertanejo_df.csv\")\n",
    "metal = pd.read_csv(\"metal_df.csv\")\n",
    "vaporwave = pd.read_csv(\"vaporwave_df.csv\")\n",
    "samba = pd.read_csv(\"samba_df.csv\")\n",
    "classica = pd.read_csv(\"classica_df.csv\")\n",
    "pop = pd.read_csv(\"pop_df.csv\")\n",
    "mpb = pd.read_csv(\"mpb_df.csv\")\n",
    "punk = pd.read_csv(\"punk_df.csv\")\n",
    "reggae = pd.read_csv(\"reggae_df.csv\")\n",
    "jazz = pd.read_csv(\"jazz_df.csv\")\n",
    "blues = pd.read_csv(\"blues_df.csv\")\n",
    "\n",
    "listx = [rock,rap,eletronica,funk,sertanejo,metal,vaporwave,samba,classica,pop,mpb,punk,reggae,jazz,blues]\n",
    "list_names = ['rock','rap','eletronica','funk','sertanejo','metal','vaporwave','samba','classica','pop','mpb','punk','reggae','jazz','blues']\n",
    "def make_genre_no(df,idx):\n",
    "    listtemp = listx\n",
    "    \n",
    "    num_df = df.count()[0]\n",
    "    del listtemp[idx]\n",
    "    num_songs_no_per_g = num_df//len(listtemp)\n",
    "    df_no = listtemp[0]\n",
    "    frames = []\n",
    "    for i in range(len(listtemp)):\n",
    "        frames.append(listtemp[i].iloc[0:num_songs_no_per_g,:])\n",
    "    df_no = pd.concat(frames)\n",
    "    return df_no\n",
    "print(\"a\")"
   ]
  },
  {
   "cell_type": "code",
   "execution_count": 27,
   "metadata": {},
   "outputs": [
    {
     "name": "stdout",
     "output_type": "stream",
     "text": [
      "_\n",
      "=\n",
      "_\n",
      "=\n",
      "_\n",
      "=\n",
      "_\n",
      "=\n",
      "_\n",
      "=\n",
      "_\n",
      "=\n",
      "_\n",
      "=\n",
      "_\n",
      "=\n",
      "_\n",
      "=\n",
      "_\n",
      "=\n",
      "_\n",
      "=\n",
      "_\n",
      "=\n",
      "_\n",
      "=\n",
      "_\n",
      "=\n",
      "_\n",
      "=\n"
     ]
    }
   ],
   "source": [
    "\n",
    "for i in range(len(listx)):\n",
    "    df = listx[i]\n",
    "    for j in range(len(listx)):\n",
    "        df[list_names[j]] = 0\n",
    "    df[list_names[i]]=1\n",
    "    df.to_csv(list_names[i]+\"_df.csv\",encoding=\"utf-8\")\n",
    "    print(\"_\")\n",
    "    listx = [rock,rap,eletronica,funk,sertanejo,metal,vaporwave,samba,classica,pop,mpb,punk,reggae,jazz,blues]\n",
    "    df_no = make_genre_no(listx[i],i)\n",
    "    df_no.to_csv(\"not_\"+list_names[i]+\"_df.csv\",encoding=\"utf-8\")\n",
    "    print(\"=\")\n",
    "    listx = [rock,rap,eletronica,funk,sertanejo,metal,vaporwave,samba,classica,pop,mpb,punk,reggae,jazz,blues]"
   ]
  },
  {
   "cell_type": "code",
   "execution_count": null,
   "metadata": {
    "collapsed": true
   },
   "outputs": [],
   "source": []
  }
 ],
 "metadata": {
  "kernelspec": {
   "display_name": "Python 3",
   "language": "python",
   "name": "python3"
  },
  "language_info": {
   "codemirror_mode": {
    "name": "ipython",
    "version": 3
   },
   "file_extension": ".py",
   "mimetype": "text/x-python",
   "name": "python",
   "nbconvert_exporter": "python",
   "pygments_lexer": "ipython3",
   "version": "3.6.3"
  }
 },
 "nbformat": 4,
 "nbformat_minor": 2
}
