{
 "cells": [
  {
   "cell_type": "code",
   "execution_count": 1,
   "metadata": {
    "collapsed": true
   },
   "outputs": [],
   "source": [
    "import pandas as pd\n",
    "import matplotlib.pyplot as plt\n",
    "import numpy as np\n",
    "import os\n",
    "from sklearn.naive_bayes import MultinomialNB\n",
    "from sklearn.feature_extraction import DictVectorizer\n",
    "import spotipy \n",
    "from spotipy.oauth2 import SpotifyClientCredentials\n",
    "from sklearn.svm import SVC\n",
    "from tmm_functions import *\n"
   ]
  },
  {
   "cell_type": "code",
   "execution_count": 2,
   "metadata": {
    "collapsed": true
   },
   "outputs": [],
   "source": [
    "rock=Dataset(\"rock_df.csv\")\n",
    "alo=Dataset('not_rock_df.csv')\n",
    "serta=Dataset(\"sertanejo_df.csv\")\n",
    "funk=Dataset(\"funk_df.csv\")\n",
    "rap=Dataset(\"rap_df.csv\")\n",
    "metal=Dataset(\"metal_df.csv\")"
   ]
  },
  {
   "cell_type": "code",
   "execution_count": 3,
   "metadata": {
    "collapsed": true
   },
   "outputs": [],
   "source": [
    "df_all=pd.concat([rock.df,serta.df,funk.df,rap.df,metal.df])\n",
    "\n",
    "dtset_all=Dataset(df_all)"
   ]
  },
  {
   "cell_type": "code",
   "execution_count": 4,
   "metadata": {
    "collapsed": true
   },
   "outputs": [],
   "source": [
    "ash=Trainer()"
   ]
  },
  {
   "cell_type": "code",
   "execution_count": 5,
   "metadata": {
    "collapsed": true
   },
   "outputs": [],
   "source": [
    "ash.add_data(\"rock\",rock)"
   ]
  },
  {
   "cell_type": "code",
   "execution_count": 6,
   "metadata": {},
   "outputs": [
    {
     "data": {
      "text/plain": [
       "'The new dataset was trained and saved'"
      ]
     },
     "execution_count": 6,
     "metadata": {},
     "output_type": "execute_result"
    }
   ],
   "source": [
    "rock_all=ash.pre_format('rock',rock,alo)\n",
    "rock_all.df.tail(5)\n",
    "ash.train('rock',rock_all,'rock')"
   ]
  },
  {
   "cell_type": "code",
   "execution_count": 7,
   "metadata": {
    "collapsed": true
   },
   "outputs": [],
   "source": [
    "test_rock= Dataset('test_rock_df.csv')\n",
    "test_not_rock=Dataset('test_not_rock_df.csv')"
   ]
  },
  {
   "cell_type": "code",
   "execution_count": 8,
   "metadata": {},
   "outputs": [
    {
     "data": {
      "text/plain": [
       "50"
      ]
     },
     "execution_count": 8,
     "metadata": {},
     "output_type": "execute_result"
    }
   ],
   "source": [
    "len(test_not_rock.df)"
   ]
  },
  {
   "cell_type": "code",
   "execution_count": 9,
   "metadata": {},
   "outputs": [
    {
     "name": "stdout",
     "output_type": "stream",
     "text": [
      "This is the SVC score: 0.5733333333333334\n",
      "This is the NB score: 0.8133333333333334\n"
     ]
    }
   ],
   "source": [
    "test_rock_all=ash.pre_format('rock',test_rock,test_not_rock)\n",
    "ash.check_score('rock',test_rock_all,'rock')\n"
   ]
  },
  {
   "cell_type": "code",
   "execution_count": 10,
   "metadata": {},
   "outputs": [
    {
     "data": {
      "text/plain": [
       "84"
      ]
     },
     "execution_count": 10,
     "metadata": {},
     "output_type": "execute_result"
    }
   ],
   "source": [
    "ash.evaluate('rock',test_rock_all)\n",
    "\n",
    "len(ash.results_nb['rock']['liked'])"
   ]
  },
  {
   "cell_type": "code",
   "execution_count": null,
   "metadata": {
    "collapsed": true
   },
   "outputs": [],
   "source": []
  },
  {
   "cell_type": "code",
   "execution_count": 11,
   "metadata": {},
   "outputs": [
    {
     "data": {
      "text/plain": [
       "'The new dataset was trained and saved'"
      ]
     },
     "execution_count": 11,
     "metadata": {},
     "output_type": "execute_result"
    }
   ],
   "source": [
    "ash.train('all_rock',dtset_all,'rock')"
   ]
  },
  {
   "cell_type": "code",
   "execution_count": 12,
   "metadata": {},
   "outputs": [
    {
     "name": "stdout",
     "output_type": "stream",
     "text": [
      "This is the SVC score: 0.3333333333333333\n",
      "This is the NB score: 0.54\n"
     ]
    }
   ],
   "source": [
    "ash.check_score('all_rock',test_rock_all,'rock')"
   ]
  },
  {
   "cell_type": "code",
   "execution_count": 13,
   "metadata": {
    "scrolled": false
   },
   "outputs": [
    {
     "data": {
      "text/plain": [
       "'The new dataset was trained and saved'"
      ]
     },
     "execution_count": 13,
     "metadata": {},
     "output_type": "execute_result"
    }
   ],
   "source": [
    "not_rap=Dataset('not_rap_df.csv')\n",
    "rap_all=ash.pre_format('rap',rap,not_rap)\n",
    "ash.train('rap',rap_all,'rap')"
   ]
  },
  {
   "cell_type": "code",
   "execution_count": 14,
   "metadata": {},
   "outputs": [
    {
     "name": "stdout",
     "output_type": "stream",
     "text": [
      "This is the SVC score: 0.5846153846153846\n",
      "This is the NB score: 0.6717948717948717\n"
     ]
    },
    {
     "data": {
      "text/plain": [
       "'The result of the evaluation is now saved'"
      ]
     },
     "execution_count": 14,
     "metadata": {},
     "output_type": "execute_result"
    }
   ],
   "source": [
    "test_rap=Dataset('test_rap_df.csv')\n",
    "test_not_rap=Dataset('test_sertanejo_df.csv')\n",
    "test_rap_all=ash.pre_format('rap',test_rap,test_not_rap)\n",
    "\n",
    "\n",
    "ash.check_score('rap',test_rap_all,'rap')\n",
    "\n",
    "ash.evaluate('rap',test_rap_all)\n",
    "#ash.results_nb['rap']['liked']"
   ]
  },
  {
   "cell_type": "code",
   "execution_count": 19,
   "metadata": {},
   "outputs": [
    {
     "data": {
      "text/plain": [
       "'The new dataset was trained and saved'"
      ]
     },
     "execution_count": 19,
     "metadata": {},
     "output_type": "execute_result"
    }
   ],
   "source": [
    "not_funk=Dataset('not_funk_df.csv')\n",
    "funk=Dataset('funk_df.csv')\n",
    "funk_all=ash.pre_format('funk',funk,not_funk)\n",
    "ash.train('funk',funk_all,'funk')"
   ]
  },
  {
   "cell_type": "code",
   "execution_count": 21,
   "metadata": {},
   "outputs": [
    {
     "name": "stdout",
     "output_type": "stream",
     "text": [
      "This is the SVC score: 0.6928571428571428\n",
      "This is the NB score: 0.8857142857142857\n"
     ]
    },
    {
     "data": {
      "text/plain": [
       "'The result of the evaluation is now saved'"
      ]
     },
     "execution_count": 21,
     "metadata": {},
     "output_type": "execute_result"
    }
   ],
   "source": [
    "test_funk=Dataset('test_funk_df.csv')\n",
    "test_not_funk=Dataset('test_metal_df.csv')\n",
    "\n",
    "test_funk.df.columns\n",
    "\n",
    "test_funk_all=ash.pre_format('funk',test_funk,test_not_funk)\n",
    "ash.check_score('funk',test_funk_all,'funk')\n",
    "\n",
    "ash.evaluate('funk',test_funk_all)"
   ]
  },
  {
   "cell_type": "code",
   "execution_count": 27,
   "metadata": {},
   "outputs": [
    {
     "data": {
      "text/plain": [
       "['After no apê : Dodo & Dee',\n",
       " 'Liberate : Disturbed',\n",
       " 'Conflict : Disturbed',\n",
       " 'God Save Us : Ill Niño',\n",
       " 'What Comes Around : Ill Niño',\n",
       " 'Predisposed : Ill Niño',\n",
       " 'Minerva : Deftones',\n",
       " 'Change (In the House of Flies) - In The House Of Flies LP Version : Deftones',\n",
       " 'Hexagram : Deftones',\n",
       " 'Needles and Pins : Deftones',\n",
       " 'When Girls Telephone Boys : Deftones',\n",
       " 'My Way : Limp Bizkit',\n",
       " 'Take A Look Around : Limp Bizkit',\n",
       " 'Nookie : Limp Bizkit',\n",
       " 'Re-Arranged : Limp Bizkit',\n",
       " 'Boiler : Limp Bizkit',\n",
       " 'Faith : Limp Bizkit',\n",
       " 'Wait And Bleed : Slipknot',\n",
       " 'Left Behind : Slipknot',\n",
       " 'Not Falling : Mudvayne',\n",
       " 'Chop Suey! : System Of A Down',\n",
       " 'Toxicity : System Of A Down',\n",
       " 'Lonely Day : System Of A Down',\n",
       " 'B.Y.O.B. : System Of A Down',\n",
       " 'Aerials : System Of A Down',\n",
       " 'Hypnotize : System Of A Down',\n",
       " 'Boom! : System Of A Down',\n",
       " 'Needles : System Of A Down',\n",
       " 'Jet Pilot : System Of A Down',\n",
       " 'ATWA : System Of A Down',\n",
       " 'Psycho : System Of A Down',\n",
       " 'Chop Suey! : System Of A Down',\n",
       " 'Toxicity : System Of A Down',\n",
       " 'Lonely Day : System Of A Down',\n",
       " 'B.Y.O.B. : System Of A Down',\n",
       " 'Aerials : System Of A Down',\n",
       " 'Hypnotize : System Of A Down',\n",
       " 'Boom! : System Of A Down',\n",
       " 'Needles : System Of A Down',\n",
       " 'Jet Pilot : System Of A Down',\n",
       " 'ATWA : System Of A Down',\n",
       " 'Psycho : System Of A Down',\n",
       " 'Sugar : System Of A Down',\n",
       " 'Spiders : System Of A Down',\n",
       " 'Got the Life : Korn',\n",
       " 'Freak On a Leash : Korn',\n",
       " 'Falling Away from Me : Korn',\n",
       " 'Beg for Me : Korn',\n",
       " 'Ball Tongue : Korn',\n",
       " 'Somebody Someone : Korn',\n",
       " 'Wake Up Hate : Korn',\n",
       " 'Justin : Korn',\n",
       " 'Make Me Bad : Korn',\n",
       " 'Thoughtless : Korn',\n",
       " 'Giving In : Adema',\n",
       " 'Papercut : Linkin Park',\n",
       " 'One Step Closer : Linkin Park',\n",
       " 'With You : Linkin Park',\n",
       " 'A Place For My Head : Linkin Park',\n",
       " 'With You - Live : Linkin Park',\n",
       " 'Sway : Coal Chamber',\n",
       " 'Loco : Coal Chamber',\n",
       " 'Dark Days : Coal Chamber',\n",
       " 'Mudshovel - Amended : Staind',\n",
       " 'Outside - Aaron Lewis and Fred Durst : Staind',\n",
       " 'Brackish : Kittie',\n",
       " 'Charlotte : Kittie',\n",
       " 'Sweet Dreams (Are Made Of This) : Marilyn Manson',\n",
       " 'The Beautiful People : Marilyn Manson',\n",
       " 'mOBSCENE : Marilyn Manson',\n",
       " 'Disposable Teens : Marilyn Manson',\n",
       " 'Rock Is Dead : Marilyn Manson',\n",
       " 'Last Resort : Papa Roach',\n",
       " 'Between Angels And Insects : Papa Roach',\n",
       " 'Broken Home : Papa Roach',\n",
       " 'Dead Cell : Papa Roach',\n",
       " 'She Loves Me Not : Papa Roach',\n",
       " 'Singular Indestructible Droid : Papa Roach',\n",
       " 'Lifeline : Papa Roach',\n",
       " 'Time And Time Again : Papa Roach',\n",
       " 'Killing Strangers : Marilyn Manson',\n",
       " 'Deep Six : Marilyn Manson',\n",
       " 'Shot Liver Medley - Live : Korn']"
      ]
     },
     "execution_count": 27,
     "metadata": {},
     "output_type": "execute_result"
    }
   ],
   "source": [
    "ash.results_nb['funk']['disliked']\n"
   ]
  },
  {
   "cell_type": "code",
   "execution_count": null,
   "metadata": {
    "collapsed": true
   },
   "outputs": [],
   "source": []
  }
 ],
 "metadata": {
  "kernelspec": {
   "display_name": "Python 3",
   "language": "python",
   "name": "python3"
  },
  "language_info": {
   "codemirror_mode": {
    "name": "ipython",
    "version": 3
   },
   "file_extension": ".py",
   "mimetype": "text/x-python",
   "name": "python",
   "nbconvert_exporter": "python",
   "pygments_lexer": "ipython3",
   "version": "3.6.3"
  }
 },
 "nbformat": 4,
 "nbformat_minor": 2
}
