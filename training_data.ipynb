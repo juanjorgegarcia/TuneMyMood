{
 "cells": [
  {
   "cell_type": "code",
   "execution_count": 1,
   "metadata": {},
   "outputs": [],
   "source": [
    "import pandas as pd\n",
    "import matplotlib.pyplot as plt\n",
    "import numpy as np\n",
    "import os\n",
    "from sklearn.naive_bayes import MultinomialNB\n",
    "from sklearn.feature_extraction import DictVectorizer\n",
    "import spotipy \n",
    "from spotipy.oauth2 import SpotifyClientCredentials\n",
    "from sklearn.svm import SVC\n",
    "from tmm_functions import *"
   ]
  },
  {
   "cell_type": "code",
   "execution_count": 2,
   "metadata": {
    "collapsed": true
   },
   "outputs": [],
   "source": [
    "rock=Dataset(\"rock_df.csv\")\n",
    "alo=Dataset('not_rock_df.csv')\n",
    "serta=Dataset(\"sertanejo_df.csv\")\n",
    "funk=Dataset(\"funk_df.csv\")\n",
    "rap=Dataset(\"rap_df.csv\")\n",
    "metal=Dataset(\"metal_df.csv\")"
   ]
  },
  {
   "cell_type": "code",
   "execution_count": 3,
   "metadata": {},
   "outputs": [],
   "source": [
    "df_all=pd.concat([rock.df,serta.df,funk.df,rap.df,metal.df])\n",
    "\n",
    "dtset_all=Dataset(df_all)"
   ]
  },
  {
   "cell_type": "code",
   "execution_count": 4,
   "metadata": {},
   "outputs": [],
   "source": [
    "ash=Trainer()"
   ]
  },
  {
   "cell_type": "code",
   "execution_count": 5,
   "metadata": {},
   "outputs": [],
   "source": [
    "ash.add_data(\"rock\",rock)"
   ]
  },
  {
   "cell_type": "code",
   "execution_count": 6,
   "metadata": {},
   "outputs": [
    {
     "data": {
      "text/plain": [
       "'The new dataset was trained and saved'"
      ]
     },
     "execution_count": 6,
     "metadata": {},
     "output_type": "execute_result"
    }
   ],
   "source": [
    "rock_all=ash.pre_format('rock',rock,alo)\n",
    "rock_all.df.tail(5)\n",
    "ash.train('rock',rock_all,'rock')"
   ]
  },
  {
   "cell_type": "code",
   "execution_count": 7,
   "metadata": {
    "collapsed": true
   },
   "outputs": [],
   "source": [
    "test_rock= Dataset('test_rock_df.csv')\n",
    "test_not_rock=Dataset('test_not_rock_df.csv')"
   ]
  },
  {
   "cell_type": "code",
   "execution_count": 8,
   "metadata": {},
   "outputs": [
    {
     "data": {
      "text/plain": [
       "50"
      ]
     },
     "execution_count": 8,
     "metadata": {},
     "output_type": "execute_result"
    }
   ],
   "source": [
    "len(test_not_rock.df)"
   ]
  },
  {
   "cell_type": "code",
   "execution_count": 9,
   "metadata": {},
   "outputs": [
    {
     "name": "stdout",
     "output_type": "stream",
     "text": [
      "This is the SVC score: 0.56\n",
      "This is the NB score: 0.64\n"
     ]
    }
   ],
   "source": [
    "test_rock_all=ash.pre_format('rock',test_rock,test_not_rock)\n",
    "ash.check_score('rock',test_rock_all,'rock')\n"
   ]
  },
  {
   "cell_type": "code",
   "execution_count": 10,
   "metadata": {},
   "outputs": [
    {
     "data": {
      "text/plain": [
       "['Waking Lions : Pop Evil',\n",
       " 'The Doomed : A Perfect Circle',\n",
       " 'Judas : Fozzy',\n",
       " 'The Heart From Your Hate : Trivium',\n",
       " 'Rose Red Violent Blue (This Song Is Dumb & So Am I) : Stone Sour',\n",
       " 'Love Falls : HELLYEAH',\n",
       " 'The Resistance : Skillet',\n",
       " 'American Dreams : Papa Roach',\n",
       " 'Where the Wind Blows : Blacktop Mojo',\n",
       " 'Betray And Degrade : Seether',\n",
       " 'When They Call My Name : Black Veil Brides',\n",
       " 'Roots : In This Moment',\n",
       " 'KILL4ME : Marilyn Manson',\n",
       " 'Little One : Highly Suspect',\n",
       " 'Sick Of Me : Beartooth',\n",
       " 'Living on the 110 : Prophets Of Rage',\n",
       " 'Run Rabbit Run : Black Map',\n",
       " 'Steambreather : Mastodon',\n",
       " 'California Dreaming : Hollywood Undead',\n",
       " 'Satellite : Starset',\n",
       " 'Oh My God : The Pretty Reckless',\n",
       " 'Still Alive : Red',\n",
       " 'Stranded : Gojira',\n",
       " 'Remember The Enemy : DED',\n",
       " 'Necessary Evil (feat. Jonathan Davis) : Motionless In White',\n",
       " 'Heartland : Tyler Bryant & the Shakedown',\n",
       " 'Room Of Nightmares : Black Label Society',\n",
       " 'This is War : Bush',\n",
       " 'Right Here and Now : Message from Sylvia',\n",
       " 'Baby : Royal Republic',\n",
       " 'Let It Ride : Toothgrinder',\n",
       " 'Illuminant : Quicksand',\n",
       " 'Who We Are : Nothing More',\n",
       " 'Trial By Fire : Lionheart',\n",
       " 'Sid Vicious in a Dress : Powerman 5000',\n",
       " 'Black Rose : Volbeat',\n",
       " 'I Want It All : Hell Or Highwater',\n",
       " 'Hook, Line & Sinker : Royal Blood',\n",
       " 'Better Chemicals : Palisades',\n",
       " 'Cold as Ice : Blacklite District',\n",
       " 'Be Your Man : Demob Happy',\n",
       " 'Muthafucka : Beware Of Darkness',\n",
       " \"Rebirth : A Killer's Confession\",\n",
       " 'Purgatorium : Awake At Last',\n",
       " 'Divide And Conquer : Prong',\n",
       " 'Here Until Forever : In Flames',\n",
       " 'Drift : Hands Like Houses',\n",
       " 'New Land : Avatar',\n",
       " 'Broken Love : Imminence',\n",
       " 'Stones : Manafest',\n",
       " 'Bullfight : A Day To Remember',\n",
       " 'Dark Daze : Sylar',\n",
       " 'Solar : Northlane',\n",
       " 'Breathe : Through Fire',\n",
       " 'Help : Papa Roach',\n",
       " 'Silence Speaks : While She Sleeps',\n",
       " 'My Little RnR : Danko Jones',\n",
       " 'Bury Me Alive : Throw The Fight',\n",
       " 'Door to Door Cannibals : Chevelle',\n",
       " 'Movimento - Remix : Lexa',\n",
       " 'Na Ponta Ela Fica : Oba Oba Samba House',\n",
       " 'Troféu do Ano : Jerry Smith',\n",
       " 'Tchau Tchau Mozão : Luanna e Lorys',\n",
       " 'Azul Piscina : Mc Livinho',\n",
       " 'Remexe mexe : Delano',\n",
       " 'Elas Já Estão Prontas : MC JottaPê',\n",
       " 'Bonde da Pantera (DJ FASTA Remix) : Mc Tha',\n",
       " 'Esqueci Como Namora : Nego do Borel',\n",
       " 'Esse Dom : Mc Livinho',\n",
       " 'Livre pra Voar : Pikeno',\n",
       " 'Mina Bandida : Milk',\n",
       " 'Você Gosta Assim : Gabily',\n",
       " 'Colinho Do Pai : Mc Gui',\n",
       " 'Tudo Amiga : Dennis DJ',\n",
       " 'Você é Linda : Milk',\n",
       " 'Vem Que Eu Tô Querendo : Lexa',\n",
       " 'Catuaba : Heavy Baile',\n",
       " 'Você Partiu Meu Coração : Nego do Borel',\n",
       " 'Bang : Anitta',\n",
       " 'Não Encosta : Taty Kiss',\n",
       " 'Pra Você : Mc Tha',\n",
       " 'Quero Te Encontrar : Claudinho & Buchecha',\n",
       " 'Faço o que eu quero : Duduzinho',\n",
       " 'Sem sentimento : Maneirinho']"
      ]
     },
     "execution_count": 10,
     "metadata": {},
     "output_type": "execute_result"
    }
   ],
   "source": [
    "ash.evaluate('rock',test_rock_all)\n",
    "\n",
    "ash.results_svc['rock']['liked']"
   ]
  },
  {
   "cell_type": "code",
   "execution_count": null,
   "metadata": {},
   "outputs": [],
   "source": []
  },
  {
   "cell_type": "code",
   "execution_count": 15,
   "metadata": {},
   "outputs": [
    {
     "data": {
      "text/plain": [
       "'The new dataset was trained and saved'"
      ]
     },
     "execution_count": 15,
     "metadata": {},
     "output_type": "execute_result"
    }
   ],
   "source": [
    "ash.train('all_rock',dtset_all,'rock')"
   ]
  },
  {
   "cell_type": "code",
   "execution_count": 16,
   "metadata": {},
   "outputs": [
    {
     "name": "stdout",
     "output_type": "stream",
     "text": [
      "This is the SVC score: 0.3333333333333333\n",
      "This is the NB score: 0.3933333333333333\n"
     ]
    }
   ],
   "source": [
    "ash.check_score('all_rock',test_rock_all,'rock')"
   ]
  },
  {
   "cell_type": "code",
   "execution_count": 17,
   "metadata": {
    "scrolled": false
   },
   "outputs": [
    {
     "data": {
      "text/plain": [
       "array([  1.33000000e-02,   0.00000000e+00,   0.00000000e+00, ...,\n",
       "         1.19989000e+02,   4.00000000e+00,   3.78000000e-01])"
      ]
     },
     "execution_count": 17,
     "metadata": {},
     "output_type": "execute_result"
    }
   ],
   "source": [
    "test_rock_all.train_songs[0]"
   ]
  },
  {
   "cell_type": "code",
   "execution_count": null,
   "metadata": {},
   "outputs": [],
   "source": []
  },
  {
   "cell_type": "code",
   "execution_count": null,
   "metadata": {},
   "outputs": [],
   "source": []
  },
  {
   "cell_type": "code",
   "execution_count": null,
   "metadata": {
    "collapsed": true
   },
   "outputs": [],
   "source": []
  }
 ],
 "metadata": {
  "kernelspec": {
   "display_name": "Python 3",
   "language": "python",
   "name": "python3"
  },
  "language_info": {
   "codemirror_mode": {
    "name": "ipython",
    "version": 3
   },
   "file_extension": ".py",
   "mimetype": "text/x-python",
   "name": "python",
   "nbconvert_exporter": "python",
   "pygments_lexer": "ipython3",
   "version": "3.6.0"
  }
 },
 "nbformat": 4,
 "nbformat_minor": 2
}
