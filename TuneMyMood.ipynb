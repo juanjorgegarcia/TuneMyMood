{
 "cells": [
  {
   "cell_type": "code",
   "execution_count": 1,
   "metadata": {
    "collapsed": true
   },
   "outputs": [],
   "source": [
    "%matplotlib inline\n",
    "import pandas as pd\n",
    "import matplotlib.pyplot as plt\n",
    "import numpy as np\n",
    "import os\n",
    "from sklearn.naive_bayes import MultinomialNB\n",
    "from sklearn.feature_extraction import DictVectorizer\n",
    "vec=DictVectorizer()\n",
    "import spotipy \n",
    "from spotipy.oauth2 import SpotifyClientCredentials\n",
    "from sklearn.svm import SVC\n",
    "\n",
    "with open('login.txt') as f: \n",
    "    data = f.readlines()\n",
    "#cid=data[0].strip()\n",
    "#secret=data[1].strip()"
   ]
  },
  {
   "cell_type": "code",
   "execution_count": 2,
   "metadata": {},
   "outputs": [
    {
     "name": "stdout",
     "output_type": "stream",
     "text": [
      "Esperamos trabalhar no diretório\n",
      "C:\\Users\\JUAN\\Documents\\GitHub\\TuneMyMood\n"
     ]
    }
   ],
   "source": [
    "print('Esperamos trabalhar no diretório')\n",
    "print(os.getcwd())"
   ]
  },
  {
   "cell_type": "code",
   "execution_count": 36,
   "metadata": {},
   "outputs": [],
   "source": [
    "class Dataset:\n",
    "    #classe para formatação e analise de datasets\n",
    "    \n",
    "    def __init__(self,df2): #df será passado como string do diretorio do csv\n",
    "        if type(df2)==str:\n",
    "            self.df=pd.read_csv(df2)\n",
    "            self.df[\"loudness\"]=abs(self.df[\"loudness\"])\n",
    "            self.dict=self.df.iloc[:,1:14].to_dict('records')\n",
    "        else:   \n",
    "            self.df=df2\n",
    "            self.df[\"loudness\"]=abs(self.df[\"loudness\"])\n",
    "            self.dict=self.df.iloc[:,[0,2,3,4,6,7,8,9,10,11,12,13]].to_dict('records')\n",
    "            \n",
    "        self.ans=self.df[self.df.columns[-1]].tolist()\n",
    "        self.vec=DictVectorizer()\n",
    "        #self.nb=MultinomialNB()\n",
    "        self.train_songs=self.vec.fit_transform(self.dict).toarray()\n",
    "        #self.svc=SVC()\n",
    "        \n",
    "#     def train(self):\n",
    "#         self.svc.fit(self.train_songs,self.ans)\n",
    "#         self.nb.fit(self.train_songs,self.ans)\n",
    "#         return \"<R2D2>AS THE TIME PASSES BY, THE MORE I LEARN <R2D2>\"\n",
    "        \n",
    "#     def check_score(self,new_songs,clf=\"nb\"):\n",
    "#         if clf==\"svc\":\n",
    "#             return self.svc.score(new_songs.train_songs,new_songs.ans)\n",
    "#         else:\n",
    "#             return self.nb.score(new_songs.train_songs,new_songs.ans)\n",
    "    \n",
    "    \n",
    "#     def evaluate(self,new_songs,clf=\"nb\"): #cat_number= numero de categorias (ex: muito ruim,ruim,medio,bom,otimo (5) )\n",
    "#         if clf==\"svc\":\n",
    "#             return self.svc.predict(new_songs.train_songs)\n",
    "#         else:\n",
    "#             return self.nb.predict(new_songs.train_songs)\n",
    "    def save_csv(self,csv_name):\n",
    "        self.df.to_csv(csv_name)\n",
    "        \n",
    "    def merge_df(self,other):\n",
    "        self.df=pd.concat([self.df,other.df])\n",
    "#         if not df['study']:\n",
    "#             print(\"Aviso: Dataframe sem classificação de /Study/ salvo\")\n",
    "        \n",
    "            \n",
    "\n",
    "class User:\n",
    "    #classe para facilitar o uso do spotipy\n",
    "    def __init__(self,client): #a variavel client devera ser uma lista que contem o id do cliente e a senha dele\n",
    "        self.credentials_manager=SpotifyClientCredentials(client_id=data[0].strip(), client_secret=data[1].strip())\n",
    "        self.sp=spotipy.Spotify(client_credentials_manager=self.credentials_manager)\n",
    "        self.sp.trace=False\n",
    "        self.playlists={}\n",
    "    \n",
    "    def playlist_downloader(self,name,userid,playlist_id): \n",
    "        #name= nome que a playlist ficara salva no dicionario\n",
    "        #userid = id do usuario dono da playlist\n",
    "        #playlist_id = id da playlist\n",
    "        #função para baixar as musicas de uma playlist do spotify\n",
    "        playlist = self.sp.user_playlist(user=userid,playlist_id=playlist_id)\n",
    "        songs = playlist[\"tracks\"][\"items\"]\n",
    "        ids = []\n",
    "        artists=[]\n",
    "        song_title=[]\n",
    "        \n",
    "        for i in range(len(songs)): \n",
    "            ids.append(songs[i][\"track\"][\"id\"])\n",
    "            artists.append(songs[i][\"track\"][\"artists\"][0][\"name\"])\n",
    "            song_title.append(songs[i][\"track\"][\"name\"])\n",
    "            \n",
    "        features = self.sp.audio_features(ids) \n",
    "        df_features = pd.DataFrame(features)\n",
    "        df_artist = pd.DataFrame(artists)\n",
    "        series_artist = pd.Series(artists, name='artist')\n",
    "        series_title = pd.Series(song_title,name=\"song_title\")\n",
    "        df=pd.concat([df_features,series_title,series_artist],axis=1)\n",
    "        self.playlists[name]=df\n",
    "        \n",
    "        return df #retornara o dataframe com as musicas\n",
    "\n",
    "\n",
    "class Trainer():\n",
    "    #classe para facilitar o treinamento com o NB e SVC\n",
    "    def __init__(self):\n",
    "        self.data={}\n",
    "        self.nb={}\n",
    "        self.svc={}\n",
    "        \n",
    "    def add_data(self,genre,data):\n",
    "        self.data[genre]=data\n",
    "    \n",
    "    def train(self,name,dataset):\n",
    "        #name=nome da chave do dicionario que sera salvo o treinamento,\n",
    "        #dataset=objeto da classe Dataset que recebera o treino\n",
    "        nb=MultinomialNB()\n",
    "        svc=SVC()\n",
    "        self.nb[name]=nb.fit(dataset.train_songs,dataset.ans)\n",
    "        self.svc[name]=svc.fit(dataset.train_songs,dataset.ans)\n",
    "        return \"The new dataset was trained and saved\"\n",
    "        \n",
    "    def check_score(self,name,new_songs):\n",
    "        #metodo para checar a eficacia do machine learning\n",
    "        print(\"This is the SVC score: {}\".format(self.svc[name].score(new_songs.train_songs,new_songs.ans)))\n",
    "\n",
    "        print(\"This is the NB score: {}\".format(self.nb[name].score(new_songs.train_songs,new_songs.ans)))\n",
    "\n",
    "    \n",
    "    \n",
    "    def evaluate(self,name,new_songs,clf=\"nb\"): \n",
    "        if clf==\"svc\":\n",
    "            return self.svc[name].predict(new_songs.train_songs)\n",
    "        else:\n",
    "            return self.nb[name].predict(new_songs.train_songs)\n",
    "        \n",
    "#     def save_csv(self):\n",
    "        "
   ]
  },
  {
   "cell_type": "code",
   "execution_count": 40,
   "metadata": {
    "scrolled": true
   },
   "outputs": [
    {
     "name": "stdout",
     "output_type": "stream",
     "text": [
      "This is the SVC score: 0.3\n",
      "This is the NB score: 0.43333333333333335\n"
     ]
    }
   ],
   "source": [
    "test=Dataset(\"trained.csv\")\n",
    "\n",
    "new_songs=Dataset(\"trained2.csv\")\n",
    "\n",
    "ash=Trainer()\n",
    "\n",
    "ash.train(\"test\",test)\n",
    "\n",
    "ash.check_score(\"test\",new_songs)\n",
    "\n"
   ]
  },
  {
   "cell_type": "code",
   "execution_count": 5,
   "metadata": {
    "collapsed": true
   },
   "outputs": [],
   "source": [
    "client=User(data)\n",
    "not_funk=client.playlist_downloader(\"paradox spiral\",'12122112252','4INhsCJeBocKPzB79iPbMk')"
   ]
  },
  {
   "cell_type": "code",
   "execution_count": 6,
   "metadata": {
    "collapsed": true
   },
   "outputs": [],
   "source": [
    "#df"
   ]
  },
  {
   "cell_type": "code",
   "execution_count": 7,
   "metadata": {
    "collapsed": true
   },
   "outputs": [],
   "source": [
    "is_funk=client.playlist_downloader(\"funk_juan\",\"12144879613\",\"4cZ6B4WujgwaQP2D2vbOn8\")"
   ]
  },
  {
   "cell_type": "code",
   "execution_count": 8,
   "metadata": {
    "collapsed": true
   },
   "outputs": [],
   "source": [
    "is_funk[\"ans\"]=1\n",
    "not_funk[\"ans\"]=0\n"
   ]
  },
  {
   "cell_type": "code",
   "execution_count": 9,
   "metadata": {
    "collapsed": true
   },
   "outputs": [],
   "source": [
    "funk_concat=pd.concat([not_funk,is_funk])\n",
    "\n"
   ]
  },
  {
   "cell_type": "code",
   "execution_count": null,
   "metadata": {
    "collapsed": true
   },
   "outputs": [],
   "source": []
  },
  {
   "cell_type": "code",
   "execution_count": 43,
   "metadata": {},
   "outputs": [
    {
     "data": {
      "text/plain": [
       "'The new dataset was trained and saved'"
      ]
     },
     "execution_count": 43,
     "metadata": {},
     "output_type": "execute_result"
    }
   ],
   "source": [
    "funk_training=Dataset(funk_concat)\n",
    "\n",
    "ash.train(\"funk\",funk_training)\n"
   ]
  },
  {
   "cell_type": "code",
   "execution_count": 44,
   "metadata": {
    "collapsed": true
   },
   "outputs": [],
   "source": [
    "is_funk_test= client.playlist_downloader(\"funk\",\"spotify\",\"37i9dQZF1DWYYeOy9vs7I5\")\n",
    "not_funk_test= client.playlist_downloader(\"blank banshee\",\"11128845131\",\"6zQDJx3HwQKACmjTku7tdW\")"
   ]
  },
  {
   "cell_type": "code",
   "execution_count": 45,
   "metadata": {
    "collapsed": true
   },
   "outputs": [],
   "source": [
    "is_funk_test[\"ans\"]=1\n",
    "not_funk_test[\"ans\"]=0\n",
    "\n",
    "test_funk_concat=pd.concat([is_funk_test,not_funk_test])"
   ]
  },
  {
   "cell_type": "code",
   "execution_count": 46,
   "metadata": {
    "collapsed": true
   },
   "outputs": [],
   "source": [
    "test_funk=Dataset(test_funk_concat)"
   ]
  },
  {
   "cell_type": "code",
   "execution_count": 47,
   "metadata": {},
   "outputs": [
    {
     "name": "stdout",
     "output_type": "stream",
     "text": [
      "This is the SVC score: 0.5098039215686274\n",
      "This is the NB score: 0.4411764705882353\n"
     ]
    }
   ],
   "source": [
    "ash.check_score(\"funk\",test_funk)"
   ]
  },
  {
   "cell_type": "code",
   "execution_count": 48,
   "metadata": {},
   "outputs": [
    {
     "data": {
      "text/plain": [
       "array([1, 1, 1, 1, 1, 1, 1, 1, 1, 1, 1, 1, 1, 1, 0, 1, 1, 1, 1, 1, 1, 1, 0,\n",
       "       1, 0, 1, 1, 1, 1, 1, 1, 1, 0, 1, 0, 1, 1, 1, 1, 1, 0, 1, 1, 1, 1, 1,\n",
       "       1, 1, 1, 1, 1, 1, 1, 1, 1, 1, 1, 1, 1, 1, 1, 1, 1, 1, 1, 1, 1, 1, 1,\n",
       "       1, 1, 1, 1, 1, 1, 1, 1, 1, 1, 1, 1, 1, 1, 1, 1, 1, 1, 1, 1, 1, 1, 1,\n",
       "       1, 1, 1, 1, 1, 1, 1, 1, 0, 1])"
      ]
     },
     "execution_count": 48,
     "metadata": {},
     "output_type": "execute_result"
    }
   ],
   "source": [
    "ash.evaluate('funk',test_funk)"
   ]
  },
  {
   "cell_type": "code",
   "execution_count": null,
   "metadata": {},
   "outputs": [],
   "source": []
  },
  {
   "cell_type": "code",
   "execution_count": null,
   "metadata": {
    "collapsed": true
   },
   "outputs": [],
   "source": []
  },
  {
   "cell_type": "code",
   "execution_count": 49,
   "metadata": {},
   "outputs": [
    {
     "data": {
      "text/plain": [
       "'The new dataset was trained and saved'"
      ]
     },
     "execution_count": 49,
     "metadata": {},
     "output_type": "execute_result"
    }
   ],
   "source": [
    "client.playlist_downloader(\"chillstep/trap/future\",'12122168529',\"5DeNP7MuwXgAHF2qgyOM4v\")\n",
    "\n",
    "client.playlists[\"chillstep/trap/future\"][\"ans\"]=1\n",
    "client.playlists[\"funk\"][\"ans\"]=0\n",
    "\n",
    "fred_dt=pd.concat([client.playlists[\"chillstep/trap/future\"],client.playlists[\"funk\"]])\n",
    "\n",
    "fred_tastes=Dataset(fred_dt)\n",
    "\n",
    "ash.train('fred',fred_tastes)\n"
   ]
  },
  {
   "cell_type": "code",
   "execution_count": 18,
   "metadata": {
    "collapsed": true
   },
   "outputs": [],
   "source": [
    "# client.playlists[\"chillstep/trap/future\"].iloc[:,[0,2,3,4,6,7,8,9,10,11,12,13,17,19]]"
   ]
  },
  {
   "cell_type": "code",
   "execution_count": 50,
   "metadata": {},
   "outputs": [
    {
     "name": "stdout",
     "output_type": "stream",
     "text": [
      "This is the SVC score: 0.7874015748031497\n",
      "This is the NB score: 0.1968503937007874\n"
     ]
    }
   ],
   "source": [
    "client.playlist_downloader(\"soul touching\",\"lucasvaz97\",\"00LBQEoraAgSitcCnbndWi\")\n",
    "client.playlists[\"soul touching\"][\"ans\"]=0\n",
    "client.playlists[\"paradox spiral\"][\"ans\"]=1\n",
    "\n",
    "fred_r=pd.concat([client.playlists[\"paradox spiral\"],client.playlists[\"soul touching\"]])\n",
    "fred_r\n",
    "\n",
    "fred_mood=Dataset(fred_r)\n",
    "#fred_mood.train_songs[1]\n",
    "ash.check_score('fred',fred_mood)"
   ]
  },
  {
   "cell_type": "code",
   "execution_count": null,
   "metadata": {},
   "outputs": [],
   "source": []
  },
  {
   "cell_type": "code",
   "execution_count": null,
   "metadata": {
    "collapsed": true
   },
   "outputs": [],
   "source": []
  },
  {
   "cell_type": "code",
   "execution_count": null,
   "metadata": {
    "collapsed": true
   },
   "outputs": [],
   "source": []
  },
  {
   "cell_type": "code",
   "execution_count": null,
   "metadata": {
    "collapsed": true
   },
   "outputs": [],
   "source": []
  },
  {
   "cell_type": "code",
   "execution_count": null,
   "metadata": {
    "collapsed": true
   },
   "outputs": [],
   "source": []
  }
 ],
 "metadata": {
  "kernelspec": {
   "display_name": "Python 3",
   "language": "python",
   "name": "python3"
  },
  "language_info": {
   "codemirror_mode": {
    "name": "ipython",
    "version": 3
   },
   "file_extension": ".py",
   "mimetype": "text/x-python",
   "name": "python",
   "nbconvert_exporter": "python",
   "pygments_lexer": "ipython3",
   "version": "3.6.0"
  }
 },
 "nbformat": 4,
 "nbformat_minor": 2
}
