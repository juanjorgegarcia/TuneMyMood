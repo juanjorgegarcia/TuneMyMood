{
 "cells": [
  {
   "cell_type": "code",
   "execution_count": 133,
   "metadata": {
    "collapsed": true
   },
   "outputs": [],
   "source": [
    "%matplotlib inline\n",
    "import pandas as pd\n",
    "import matplotlib.pyplot as plt\n",
    "import numpy as np\n",
    "import os\n",
    "import re\n",
    "from sklearn.naive_bayes import MultinomialNB\n",
    "from sklearn.feature_extraction import DictVectorizer\n",
    "vec=DictVectorizer()\n",
    "import spotipy \n",
    "from spotipy.oauth2 import SpotifyClientCredentials\n",
    "from sklearn.svm import SVC\n",
    "from tmm_functions import *\n",
    "\n",
    "def list_download(listi,listy_g,genre,datavalue):\n",
    "    df_all = client.playlist_downloader(listi[0][0],listi[0][1],listi[0][2])\n",
    "    print(1)\n",
    "    df_list = []\n",
    "    for i in range(1,len(listi)):\n",
    "        df =client.playlist_downloader(listi[i][0],listi[i][1],listi[i][2])\n",
    "        df_all = pd.concat([df_all,df])\n",
    "        print(i+1)\n",
    "    for i in range(len(listy_g)):\n",
    "        df_all[listy_g[i]] = 0\n",
    "    if datavalue == 1:\n",
    "        df_all[genre] = datavalue\n",
    "    print(\"SO DONE\")\n",
    "    return df_all\n",
    "\n",
    "def list_download_blank(listi):\n",
    "    df_all = client.playlist_downloader(listi[0][0],listi[0][1],listi[0][2])\n",
    "    print(1)\n",
    "    df_list = []\n",
    "    for i in range(1,len(listi)):\n",
    "        df =client.playlist_downloader(listi[i][0],listi[i][1],listi[i][2])\n",
    "        df_all = pd.concat([df_all,df])\n",
    "        print(i+1)\n",
    "    print(\"SO DONE\")\n",
    "    return df_all\n",
    "        \n",
    "def lister(listaurl):\n",
    "    liste = []\n",
    "    for i in range(len(listaurl)):\n",
    "        a = re.split(r\"/\", listaurl[0])\n",
    "        temp = [a[5]+str(i+1),a[4],a[6]]\n",
    "        liste.append(temp)\n",
    "    return liste\n"
   ]
  },
  {
   "cell_type": "code",
   "execution_count": 119,
   "metadata": {
    "collapsed": true
   },
   "outputs": [],
   "source": [
    "client=User(data)\n"
   ]
  },
  {
   "cell_type": "code",
   "execution_count": 7,
   "metadata": {
    "collapsed": true
   },
   "outputs": [],
   "source": [
    "lista_g = [\"rock\",\"funk\",\"eletronica\",\"rap\",\"sertanejo\",\"metal\"]"
   ]
  },
  {
   "cell_type": "code",
   "execution_count": null,
   "metadata": {
    "collapsed": true
   },
   "outputs": [],
   "source": []
  },
  {
   "cell_type": "code",
   "execution_count": 8,
   "metadata": {
    "collapsed": true
   },
   "outputs": [],
   "source": [
    "#\n",
    "#    Playlists  -   (nome,user,id)\n",
    "#\n",
    "\n",
    "lista_playlists_rock = [[\"volume máximo\",\"spotify\",\"37i9dQZF1DX4908CEYEdlz\"],\n",
    "                        [\"rock this\",\"spotify\",\"37i9dQZF1DXcF6B6QPhFDv\"],\n",
    "                        [\"rock solid\",\"spotify\",\"37i9dQZF1DX49jUV2NfGku\"],\n",
    "                        [\"pure rock & roll\",\"spotify\",\"37i9dQZF1DWWRktbhJiuqL\"],\n",
    "                        [\"legendary guitar solos\",\"spotify\",\"37i9dQZF1DWSlJG7YPUBHF\"],\n",
    "                        [\"power ballads\",\"spotify\",\"37i9dQZF1DX82Zzp6AKx64\"],\n",
    "                        [\"90s pop rock essentials\",\"spotify\",\"37i9dQZF1DX3YMp9n8fkNx\"],\n",
    "                        [\"workday: rock classincs\",\"spotify\",\"37i9dQZF1DX1lwxXvReaux\"],\n",
    "                        [\"rock save the queen\",\"spotify\",\"37i9dQZF1DXcDnIr0iKAG8\"],\n",
    "                        [\"rock brazuca\",\"digster_brasil\",\"7tJSlaad9s6aiGloaqRJML\"]]\n",
    "\n",
    "\n",
    "\n",
    "lista_playlists_funk = [[\"funk 25\",\"spotify\",\"37i9dQZF1DWTkIwO2HDifB\"],\n",
    "                        [\"bonde do funk\",\"spotify\",\"37i9dQZF1DWYYeOy9vs7I5\"],\n",
    "                        [\"absurdamente funk\",\"onerpm\",\"4ut6RdaC7vEH5SpI5MXnnT\"],\n",
    "                        [\"baile funk\",\"filtr.br\",\"67z7xW9dTE9DIPStaywvxB\"],\n",
    "                        [\"funk divas\",\"spotify\",\"37i9dQZF1DWTSW6EnevZMi\"],\n",
    "                        [\"this is mc guime\",\"spotify\",\"37i9dQZF1DXa7ipSktWMpx\"],\n",
    "                        [\"funk na laje\",\"digster_brasil\",\"5eBQ5t5KiODgoezdnR0edQ\"],\n",
    "                        [\"this is mc bin laden\",\"spotify\",\"37i9dQZF1DXdPrxabRfeD5\"],\n",
    "                        [\"baile novo\",\"spotify\",\"37i9dQZF1DX3nEjIEd6k1k\"],\n",
    "                        [\"funk 2017\",\"filtr.br\",\"1rjCkO3uhxg6DvuKGQ5Uou\"]]\n",
    "\n",
    "lista_playlists_sertanejo = [[\"sertanejo 2017\",\"filtr.br\",\"4ApmKHtHuz8ToUrz6OOPf3\"],\n",
    "                             [\"sertanejo universitario 2017\",\"vini_kam\",\"4C7la5DHqabGdAaJ3615I5\"],\n",
    "                             [\"esquenta sertanejo\",\"spotify\",\"37i9dQZF1DXdSjVZQzv2tl\"],\n",
    "                             [\"potencia sertanejo\",\"spotify\",\"37i9dQZF1DX5lAV5ZGu9ik\"],\n",
    "                             [\"classicos sertanejos\",\"spotify\",\"37i9dQZF1DX7IK76Iw6baR\"],\n",
    "                             [\"sertanejo no trabalho\",\"spotify\",\"37i9dQZF1DWUkWvWISwtjS\"],\n",
    "                             [\"sextaneja\",\"digster_brasil\",\"429AhnPSHFmHsPrdLu1Zuj\"],\n",
    "                             [\"sertanejo romantico\",\"somlivre\",\"1YSZZdqxRaMUnzd7ThNe71\"],\n",
    "                             [\"festa sertaneja\",\"filtr.br\",\"13q6Cd96yY0ww3k7Fc8pWl\"],\n",
    "                             [\"this is luan santana\",\"spotify\",\"37i9dQZF1DXarYcE40q7Zs\"]]\n",
    "lista_playlists_rap = [[\"rapublica\",\"spotify\",\"37i9dQZF1DWSIvbYYt1Dvi\"],\n",
    "                       [\"proxima rima\",\"spotify\",\"37i9dQZF1DWYBXtbGSCurj\"],\n",
    "                       [\"rap e compromisso\",\"onerpm\",\"4eoAeASXEEa3s8CC5SVsCH\"],\n",
    "                       [\"hip hop 2017\",\"mejoresplaylistsspotify\",\"0OtdLZ5JVyqB4Zp8aylECe\"],\n",
    "                       [\"rap caviar\",\"spotify\",\"37i9dQZF1DX0XUsuxWHRQd\"],\n",
    "                       [\"hip hop crew\",\"spotify\",\"37i9dQZF1DXb8e91bM8R51\"],\n",
    "                       [\"most necessary\",\"spotify\",\"37i9dQZF1DX2RxBh64BHjQ\"],\n",
    "                       [\"urban poet\",\"spotify\",\"37i9dQZF1DWSTeI2WWFaia\"],\n",
    "                       [\"trabalho com hip hop\",\"filtr.br\",\"5jTImMGAxkRqwfB4p7PJC3\"],\n",
    "                       [\"rap the set\",\"digster.fm\",\"5HYnMEFnXw6j9Xj8DIth0f\"]]\n",
    "lista_playlists_eletronica = [[\"edm room\",\"spotify\",\"37i9dQZF1DXaPK7HyVedIT\"],\n",
    "                              [\"eletro br\",\"spotify\",\"37i9dQZF1DXd14ByHZraz1\"],\n",
    "                              [\"mint\",\"spotify\",\"37i9dQZF1DX4dyzvuaRJ0n\"],\n",
    "                              [\"dance party\",\"spotify\",\"37i9dQZF1DXaXB8fQg7xif\"],\n",
    "                              [\"housewek\",\"spotify\",\"37i9dQZF1DXa8NOEUWPn9W\"],\n",
    "                              [\"edm beats\",\"playlistmebrasil\",\"4fwESuhQHeVxXJjDUUVlvv\"],\n",
    "                              [\"chill tracks\",\"spotify\",\"37i9dQZF1DX6VdMW310YC7\"],\n",
    "                              [\"vacation haus\",\"spotify\",\"37i9dQZF1DWT8fmnlYTQW3\"],\n",
    "                              [\"ibiza vibes\",\"spotify\",\"37i9dQZF1DWV6K3lprq7Lc\"],\n",
    "                              [\"bass face\",\"spotify\",\"37i9dQZF1DX2vEc9fKrard\"]]\n",
    "lista_playlists_metal = [[\"old school metal\",\"spotify\",\"37i9dQZF1DX2LTcinqsO68\"],\n",
    "                         [\"deuses do metal\",\"spotify\",\"37i9dQZF1DWTDvefqi2DvL\"],\n",
    "                         [\"heavy metal\",\"spotify\",\"37i9dQZF1DX9qNs32fujYe\"],\n",
    "                         [\"thrash metal - big 4\",\"spotify\",\"37i9dQZF1DWZdFtcHGe8ED\"],\n",
    "                         [\"extreme metal workout\",\"spotify\",\"37i9dQZF1DWY3PJWG3ogmJ\"],\n",
    "                         [\"thrash metal - big 5\",\"spotify\",\"37i9dQZF1DXcWC95w8Zh09\"],\n",
    "                         [\"metalsucks playlist\",\"metalsucks\",\"40C5k2GWBlficlUyQKmR0S\"],\n",
    "                         [\"year in metal 2016\",\"spotify\",\"37i9dQZF1DX0FNUL0tXob1\"],\n",
    "                         [\"black sabbath: the dio years\",\"spotify\",\"37i9dQZF1DXcKmFL2DMoCZ\"],\n",
    "                         [\"metal domination\",\"spotify\",\"37i9dQZF1DX2lfnpRKY6V3\"]]"
   ]
  },
  {
   "cell_type": "code",
   "execution_count": null,
   "metadata": {
    "collapsed": true
   },
   "outputs": [],
   "source": []
  },
  {
   "cell_type": "raw",
   "metadata": {},
   "source": []
  },
  {
   "cell_type": "code",
   "execution_count": 9,
   "metadata": {},
   "outputs": [
    {
     "name": "stdout",
     "output_type": "stream",
     "text": [
      "1\n",
      "2\n",
      "3\n",
      "4\n",
      "5\n",
      "6\n",
      "7\n",
      "8\n",
      "9\n",
      "10\n",
      "SO DONE\n",
      "1\n",
      "2\n",
      "3\n",
      "4\n",
      "5\n",
      "6\n",
      "7\n",
      "8\n",
      "9\n",
      "10\n",
      "SO DONE\n",
      "1\n",
      "2\n",
      "3\n",
      "4\n",
      "5\n",
      "6\n",
      "7\n",
      "8\n",
      "9\n",
      "10\n",
      "SO DONE\n",
      "1\n",
      "2\n",
      "3\n",
      "4\n",
      "5\n",
      "6\n",
      "7\n",
      "8\n",
      "9\n",
      "10\n",
      "SO DONE\n",
      "1\n",
      "2\n",
      "3\n",
      "4\n",
      "5\n",
      "6\n",
      "7\n",
      "8\n",
      "9\n",
      "10\n",
      "SO DONE\n",
      "1\n",
      "2\n",
      "3\n",
      "4\n",
      "5\n",
      "6\n",
      "7\n",
      "8\n",
      "9\n",
      "10\n",
      "SO DONE\n"
     ]
    }
   ],
   "source": [
    "rock_yes = list_download(lista_playlists_rock,lista_g,\"rock\",1)\n",
    "rock=Dataset(rock_yes)\n",
    "rock.save_csv(\"rock_df.csv\")\n",
    "\n",
    "funk_yes = list_download(lista_playlists_funk,lista_g,\"funk\",1)\n",
    "funk=Dataset(funk_yes)\n",
    "funk.save_csv(\"funk_df.csv\")\n",
    "\n",
    "sertanejo_yes = list_download(lista_playlists_sertanejo,lista_g,\"sertanejo\",1)\n",
    "sertanejo=Dataset(sertanejo_yes)\n",
    "sertanejo.save_csv(\"sertanejo_df.csv\")\n",
    "\n",
    "rap_yes = list_download(lista_playlists_rap,lista_g,\"rap\",1)\n",
    "rap=Dataset(rap_yes)\n",
    "rap.save_csv(\"rap_df.csv\")\n",
    "\n",
    "eletronica_yes = list_download(lista_playlists_eletronica,lista_g,\"eletronica\",1)\n",
    "eletronica=Dataset(eletronica_yes)\n",
    "eletronica.save_csv(\"eletronica_df.csv\")\n",
    "\n",
    "metal_yes = list_download(lista_playlists_metal,lista_g,\"metal\",1)\n",
    "metal=Dataset(metal_yes)\n",
    "metal.save_csv(\"metal_df.csv\")\n"
   ]
  },
  {
   "cell_type": "code",
   "execution_count": 22,
   "metadata": {},
   "outputs": [
    {
     "name": "stdout",
     "output_type": "stream",
     "text": [
      "628\n",
      "634\n",
      "562\n",
      "471\n",
      "596\n",
      "504\n"
     ]
    }
   ],
   "source": [
    "lista_df = [rock_yes,rap_yes,eletronica_yes,funk_yes,sertanejo_yes,metal_yes]\n",
    "count_train = 0\n",
    "for i in range(len(lista_df)):\n",
    "    a = lista_df[i].count()[0]\n",
    "    print(a)\n",
    "    count_train += a"
   ]
  },
  {
   "cell_type": "code",
   "execution_count": 61,
   "metadata": {
    "collapsed": true
   },
   "outputs": [],
   "source": [
    "# data train #\n",
    "#\n",
    "# rock train\n",
    "def make_genre_no(df,idx):\n",
    "    listtemp = [rock_yes,rap_yes,eletronica_yes,funk_yes,sertanejo_yes,metal_yes]\n",
    "    \n",
    "    num_df = df.count()[0]\n",
    "    del listtemp[idx]\n",
    "    num_songs_no_per_g = num_df//len(listtemp)\n",
    "    df_no = listtemp[0]\n",
    "    frames = []\n",
    "    for i in range(len(listtemp)):\n",
    "        frames.append(listtemp[i].iloc[0:num_songs_no_per_g,:])\n",
    "    df_no = pd.concat(frames)\n",
    "    return df_no\n",
    "        \n",
    "        \n",
    "    \n",
    "    \n"
   ]
  },
  {
   "cell_type": "code",
   "execution_count": 80,
   "metadata": {
    "collapsed": true
   },
   "outputs": [],
   "source": [
    "lista_df = [rock_yes,rap_yes,eletronica_yes,funk_yes,sertanejo_yes,metal_yes]\n",
    "\n",
    "rock_no = make_genre_no(rock_yes,0) \n",
    "rap_no = make_genre_no(rap_yes,1)\n",
    "eletronica_no = make_genre_no(eletronica_yes,2)\n",
    "funk_no = make_genre_no(funk_yes,3)\n",
    "sertanejo_no = make_genre_no(sertanejo_yes,4)\n",
    "metal_no = make_genre_no(metal_yes,5)"
   ]
  },
  {
   "cell_type": "code",
   "execution_count": 82,
   "metadata": {},
   "outputs": [],
   "source": [
    "rock_no.to_csv(\"not_rock_df.csv\",encoding=\"utf-8\")\n",
    "\n",
    "funk_no.to_csv(\"not_funk_df.csv\",encoding=\"utf-8\")\n",
    "\n",
    "rap_no.to_csv(\"not_rap_df.csv\",encoding=\"utf-8\")\n",
    "\n",
    "eletronica_no.to_csv(\"not_eletronica_df.csv\",encoding=\"utf-8\")\n",
    "\n",
    "sertanejo_no.to_csv(\"not_sertanejo_df.csv\",encoding=\"utf-8\")\n",
    "\n",
    "metal_no.to_csv(\"not_metal_df.csv\",encoding=\"utf-8\")"
   ]
  },
  {
   "cell_type": "code",
   "execution_count": 97,
   "metadata": {},
   "outputs": [],
   "source": [
    "frames = [rap_yes,eletronica_yes,funk_yes,sertanejo_yes,metal_yes]\n",
    "dall_not_rock = pd.concat(frames)\n",
    "dall_not_rock.to_csv(\"all_not_rock.csv\",encoding=\"utf-8\")"
   ]
  },
  {
   "cell_type": "code",
   "execution_count": 110,
   "metadata": {},
   "outputs": [],
   "source": [
    "dtest = pd.read_csv(\"not_metal_df.csv\")\n"
   ]
  },
  {
   "cell_type": "code",
   "execution_count": 108,
   "metadata": {
    "collapsed": true
   },
   "outputs": [],
   "source": [
    "##\n",
    "\n",
    "##\n",
    "\n",
    "## M00Ds!\n",
    "\n",
    "## Relaxe    Party   Gym    Focus   \n",
    "\n",
    "\n",
    "list_relax = [[\"desplugado\",\"spotify\",\"37i9dQZF1DX7nC9vdKqBZ5\"],\n",
    "              [\"soul house relax\",\"spotify\",\"37i9dQZF1DWZeXxACCcUmL\"],\n",
    "              [\"hora acustica\",\"spotify\",\"37i9dQZF1DX3EQWTTNVPtu\"],\n",
    "              [\"acustico relax\",\"filtr.br\",\"3ofwArWXZqSqdOuVsVDzBS\"],\n",
    "              [\"totally stress free\",\"spotify\",\"37i9dQZF1DWT7XSlwvR1ar\"],\n",
    "              [\"chill.out.brain\",\"spotify\",\"37i9dQZF1DX3PIPIT6lEg5\"],\n",
    "              [\"chilling on a dirt road\",\"spotify\",\"37i9dQZF1DWTkxQvqMy4WW\"],\n",
    "              [\"peaceful\",\"spotify\",\"37i9dQZF1DWZqd5JICZI0u\"],\n",
    "              [\"calm down\",\"spotify\",\"37i9dQZF1DX5bjCEbRU4SJ\"],\n",
    "              [\"yoga e meditation\",\"spotify\",\"37i9dQZF1DX9uKNf5jGX6m\"]\n",
    "             ]\n"
   ]
  },
  {
   "cell_type": "code",
   "execution_count": 104,
   "metadata": {
    "collapsed": true
   },
   "outputs": [],
   "source": []
  },
  {
   "cell_type": "code",
   "execution_count": 109,
   "metadata": {},
   "outputs": [],
   "source": [
    "lista_url_gym = [\"https://open.spotify.com/user/spotify/playlist/37i9dQZF1DXdxcBWuJkbcy\",\n",
    "                \"https://open.spotify.com/user/spotify/playlist/37i9dQZF1DX76Wlfdnj7AP\",\"https://open.spotify.com/user/spotify/playlist/37i9dQZF1DXakWdSZ8mUMO\",\"https://open.spotify.com/user/filtr.br/playlist/12kNrq0RnI0Y1s4UfxmYro\",\"https://open.spotify.com/user/spotify/playlist/37i9dQZF1DWSJHnPb1f0X3\",\"https://open.spotify.com/user/spotify/playlist/37i9dQZF1DX9BXb6GsGCLl\",\"https://open.spotify.com/user/spotify/playlist/37i9dQZF1DWZYWNM3NfvzJ\",\"https://open.spotify.com/user/spotify/playlist/37i9dQZF1DX32NsLKyzScr\",\"https://open.spotify.com/user/spotify/playlist/37i9dQZF1DWUVpAXiEPK8P\",\"https://open.spotify.com/user/spotify/playlist/37i9dQZF1DX70RN3TfWWJh\"]\n",
    "lista_url_focus = [\"https://open.spotify.com/user/spotify/playlist/37i9dQZF1DWZeKCadgRdKQ\",\"https://open.spotify.com/user/spotify/playlist/37i9dQZF1DX3PFzdbtx1Us\",\"https://open.spotify.com/user/spotify/playlist/37i9dQZF1DX8NTLI2TtZa6\",\"https://open.spotify.com/user/spotify/playlist/37i9dQZF1DX9sIqqvKsjG8\",\"https://open.spotify.com/user/filtr.ca/playlist/0hZNf3tcMT4x03FyjKYJ3M\",\"https://open.spotify.com/user/spotify/playlist/37i9dQZF1DWT5lkChsPmpy\",\"https://open.spotify.com/user/spotify/playlist/37i9dQZF1DWZIOAPKUdaKS\",\"https://open.spotify.com/user/spotify/playlist/37i9dQZF1DWSluGMsH1R9r\",\"https://open.spotify.com/user/spotify/playlist/37i9dQZF1DXaipYDJRIDH9\",\"https://open.spotify.com/user/spotify/playlist/37i9dQZF1DWWTdxbiocWOL\"]\n",
    "\n",
    "lista_url_party = [\"https://open.spotify.com/user/spotify/playlist/37i9dQZF1DX8mBRYewE6or\",\"https://open.spotify.com/user/spotify/playlist/37i9dQZF1DXaXB8fQg7xif\",\"https://open.spotify.com/user/spotify/playlist/37i9dQZF1DXdWpx7KRCSbJ\",\"https://open.spotify.com/user/spotify/playlist/37i9dQZF1DX0IlCGIUGBsA\",\"https://open.spotify.com/user/spotify/playlist/37i9dQZF1DX3ph0alWhOXm\",\"https://open.spotify.com/user/spotify/playlist/37i9dQZF1DX2pto11EMGQc\",\"https://open.spotify.com/user/filtr.br/playlist/1EKzZkhMwqQ8aPwh9c4nHN\",\"https://open.spotify.com/user/spotify/playlist/37i9dQZF1DWZVV00CYG8D6\",\"https://open.spotify.com/user/spotify/playlist/37i9dQZF1DX7F6T2n2fegs\",\"https://open.spotify.com/user/digster_brasil/playlist/5G0f2zH2I2ivvIcvaNS621\"]\n",
    "\n",
    "list_gym = lister(lista_url_gym )\n",
    "list_focus = lister(lista_url_focus)\n",
    "list_party = lister(lista_url_party)"
   ]
  },
  {
   "cell_type": "code",
   "execution_count": 125,
   "metadata": {},
   "outputs": [
    {
     "name": "stdout",
     "output_type": "stream",
     "text": [
      "1\n",
      "2\n",
      "3\n",
      "4\n",
      "5\n",
      "6\n",
      "7\n",
      "8\n",
      "9\n",
      "10\n",
      "SO DONE\n",
      "1\n",
      "2\n",
      "3\n",
      "4\n",
      "5\n",
      "6\n",
      "7\n",
      "8\n",
      "9\n",
      "10\n",
      "SO DONE\n",
      "1\n",
      "2\n",
      "3\n",
      "4\n",
      "5\n",
      "6\n",
      "7\n",
      "8\n",
      "9\n",
      "10\n",
      "SO DONE\n",
      "1\n",
      "2\n",
      "3\n",
      "4\n",
      "5\n",
      "6\n",
      "7\n",
      "8\n",
      "9\n",
      "10\n",
      "SO DONE\n"
     ]
    }
   ],
   "source": [
    "lista_m = [\"gym\",\"focus\",\"relax\",\"party\"]\n",
    "lista_m,\n",
    "gym_yes = list_download(list_gym,lista_m,\"gym\",1)\n",
    "gym_yes.to_csv(\"gym_df.csv\",encoding=\"utf-8\")\n",
    "\n",
    "focus_yes = list_download(list_focus,lista_m,\"focus\",1)\n",
    "focus_yes.to_csv(\"focus_df.csv\",encoding=\"utf-8\")\n",
    "\n",
    "relax_yes = list_download(list_relax,lista_m,\"relax\",1)\n",
    "relax_yes.to_csv(\"relax_df.csv\",encoding=\"utf-8\")\n",
    "\n",
    "party_yes = list_download(list_party,lista_m,\"party\",1)\n",
    "party_yes.to_csv(\"party_df.csv\",encoding=\"utf-8\")"
   ]
  },
  {
   "cell_type": "code",
   "execution_count": null,
   "metadata": {},
   "outputs": [],
   "source": []
  },
  {
   "cell_type": "code",
   "execution_count": 88,
   "metadata": {
    "collapsed": true
   },
   "outputs": [],
   "source": [
    "test_rock = [\"rock hard\",\"spotify\",\"37i9dQZF1DWWJOmJ7nRx0C\"]\n",
    "test_funk = [\"funk pop\",\"spotify\",\"37i9dQZF1DWW6EwN6CPxGO\"]\n",
    "df_test_rock = client.playlist_downloader(test_rock[0],test_rock[1],test_rock[2])\n",
    "df_test_no_rock = client.playlist_downloader(test_funk[0],test_funk[1],test_funk[2])\n",
    "df_test_rock[\"rock\"]=1\n",
    "df_test_no_rock[\"rock\"]=0\n"
   ]
  },
  {
   "cell_type": "code",
   "execution_count": 89,
   "metadata": {
    "collapsed": true
   },
   "outputs": [],
   "source": [
    "df_test_no_rock.to_csv(\"test_not_rock_df.csv\",encoding=\"utf-8\")\n",
    "df_test_rock.to_csv(\"test_rock_df.csv\",encoding=\"utf-8\")"
   ]
  },
  {
   "cell_type": "code",
   "execution_count": 134,
   "metadata": {},
   "outputs": [
    {
     "name": "stdout",
     "output_type": "stream",
     "text": [
      "46\n"
     ]
    }
   ],
   "source": [
    "all_list = [\n",
    "\"http://open.spotify.com/user/spotify/playlist/5FJXhjdILmRA2z5bvz4nzf\", \n",
    "\"http://open.spotify.com/user/spotify/playlist/04MJzJlzOoy5bTytJwDsVL\", \n",
    "\"http://open.spotify.com/user/spotify/playlist/5yolys8XG4q7YfjYGl5Lff\", \n",
    "\"http://open.spotify.com/user/spotify/playlist/103Zi2NG06F9qimASDrszv\", \n",
    "\"http://open.spotify.com/user/spotify/playlist/4ecQaDJHF55Ls9m2lKIXbI\", \n",
    "\"http://open.spotify.com/user/spotify/playlist/6uTuhSs7qiEPfCI3QDHXsL\", \n",
    "\"http://open.spotify.com/user/spotify/playlist/3MlpudZs4HT3i0yGPVfmHC\", \n",
    "\"http://open.spotify.com/user/spotify/playlist/7cOO30bzxMm4tO34C9UalD\", \n",
    "\"http://open.spotify.com/user/spotify/playlist/4BKT5olNFqLB1FAa8OtC8k\", \n",
    "\"http://open.spotify.com/user/spotify/playlist/5Oo5QuAOjjXMMXphFqC6eo\", \n",
    "\"http://open.spotify.com/user/billboard.com/playlist/6UeSakyzhiEt4NB3UAd6NQ\", \n",
    "\"http://open.spotify.com/user/spotifyargentina/playlist/0NYTdFS3zbb2tVQYYxNda1\", \n",
    "\"http://open.spotify.com/user/spotify/playlist/1GQLlzxBxKTb6tJsD4RxHI\", \n",
    "\"http://open.spotify.com/user/spotify/playlist/7uDoSz5VxK5lbXgj7tBMG9\", \n",
    "\"http://open.spotify.com/user/spotify/playlist/4TNBeyX7awz89qwtTmh9D4\", \n",
    "\"http://open.spotify.com/user/spotify/playlist/7EtGvEVYkL6knEdLxNjHf3\", \n",
    "\"http://open.spotify.com/user/spotify/playlist/2ujjMpFriZ2nayLmrD1Jgl\", \n",
    "\"http://open.spotify.com/user/spotify/playlist/5p9ILyu1wb4KKHORoXU8nb\", \n",
    "\"http://open.spotify.com/user/spotify/playlist/5p9ILyu1wb4KKHORoXU8nb\", \n",
    "\"http://open.spotify.com/user/1159383624/playlist/6czK3dQ181NzcFQmt0ngSi\", \n",
    "\"http://open.spotify.com/user/elainelin/playlist/6XVhyMuFRS1212blJHTED4\", \n",
    "\"http://open.spotify.com/user/lmljoe/playlist/0DXoY83tBvgWkd8QH49yAI\", \n",
    "\"http://open.spotify.com/user/myplay.com/playlist/4ANVDtJVtVMVc2Nk79VU1M\", \n",
    "\"http://open.spotify.com/user/jedayton111/playlist/5rMh5sksZqzbXdbnEYw1g6\", \n",
    "\"http://open.spotify.com/user/lnards/playlist/1RyeIbyFeIJVnNzlGr5KkR\", \n",
    "\"http://open.spotify.com/user/lizyeomans/playlist/4m2hgFlI5hQk85rwD3Pfvf\", \n",
    "\"https://open.spotify.com/user/12185155528/playlist/636WdfgkXObvlSYPqcX9pX\", \n",
    "\"https://open.spotify.com/user/spotify/playlist/37i9dQZF1DWXx6OpWBkqVv\", \n",
    "\"https://open.spotify.com/user/spotify/playlist/37i9dQZF1DXdSjVZQzv2tl\", \n",
    "\"https://open.spotify.com/user/spotifycharts/playlist/37i9dQZEVXbMXbN3EUUhlg\", \n",
    "\"https://open.spotify.com/user/spotifycharts/playlist/37i9dQZEVXbMDoHDwVN2tF\", \n",
    "\"https://open.spotify.com/user/spotifycharts/playlist/37i9dQZEVXbMOkSwG072hV\", \n",
    "\"https://open.spotify.com/user/spotify/playlist/37i9dQZF1DWTsQAU8k2LN7\", \n",
    "\"https://open.spotify.com/user/spotify/playlist/37i9dQZF1DX34KNiFQJNVm\", \n",
    "\"https://open.spotify.com/user/spotify/playlist/37i9dQZF1DXb8e91bM8R51\", \n",
    "\"https://open.spotify.com/user/payyva/playlist/16vM2yG5XRuewto0pay890\",\n",
    "\"https://open.spotify.com/user/mtvbrasil/playlist/02yrCnZiuurRsp8BIiOaUT\",\n",
    "\"https://open.spotify.com/user/wwagnermendonca/playlist/1wRmsPfYAENmPayvQ3mLBn\",\n",
    "\"https://open.spotify.com/user/spotify/playlist/0AEzUnfymkrhPFa6ZNr4P4\",\n",
    "\"https://open.spotify.com/user/spotify/playlist/5FJXhjdILmRA2z5bvz4nzf?play=true\",\n",
    "\"https://open.spotify.com/user/spotifybrazilian/playlist/4yYoQnLpbZUiiQM9cFH5BD\",\n",
    "\"https://open.spotify.com/user/spotify/playlist/37i9dQZF1DWXRqgorJj26U\",\n",
    "\"https://open.spotify.com/user/spotify/playlist/37i9dQZF1DX30w0JtSIv4j\",\n",
    "\"https://open.spotify.com/user/spotify/playlist/3ZgmfR6lsnCwdffZUan8EA\",\n",
    "\"https://open.spotify.com/user/spotify/playlist/37i9dQZF1DX4908CEYEdlz\",\n",
    "\"https://open.spotify.com/user/spotify/playlist/37i9dQZF1DWZn9s1LNKPiM\"\n",
    "    \n",
    "]\n",
    "           \n",
    "print(len(all_list))"
   ]
  },
  {
   "cell_type": "code",
   "execution_count": null,
   "metadata": {
    "collapsed": true
   },
   "outputs": [],
   "source": []
  }
 ],
 "metadata": {
  "kernelspec": {
   "display_name": "Python 3",
   "language": "python",
   "name": "python3"
  },
  "language_info": {
   "codemirror_mode": {
    "name": "ipython",
    "version": 3
   },
   "file_extension": ".py",
   "mimetype": "text/x-python",
   "name": "python",
   "nbconvert_exporter": "python",
   "pygments_lexer": "ipython3",
   "version": "3.6.3"
  }
 },
 "nbformat": 4,
 "nbformat_minor": 2
}
