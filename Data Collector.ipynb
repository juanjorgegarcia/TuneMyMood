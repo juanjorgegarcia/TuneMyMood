{
 "cells": [
  {
   "cell_type": "code",
   "execution_count": 1,
   "metadata": {
    "collapsed": true
   },
   "outputs": [],
   "source": [
    "%matplotlib inline\n",
    "import pandas as pd\n",
    "import matplotlib.pyplot as plt\n",
    "import numpy as np\n",
    "import os\n",
    "import re\n",
    "from sklearn.naive_bayes import MultinomialNB\n",
    "from sklearn.feature_extraction import DictVectorizer\n",
    "vec=DictVectorizer()\n",
    "import spotipy \n",
    "from spotipy.oauth2 import SpotifyClientCredentials\n",
    "from sklearn.svm import SVC\n",
    "from tmm_functions import *\n",
    "\n"
   ]
  },
  {
   "cell_type": "code",
   "execution_count": 2,
   "metadata": {
    "collapsed": true
   },
   "outputs": [],
   "source": [
    "client=User(data)"
   ]
  },
  {
   "cell_type": "code",
   "execution_count": 3,
   "metadata": {
    "collapsed": true
   },
   "outputs": [],
   "source": [
    "lista_g = [\"rock\",\"funk\",\"eletronica\",\"rap\",\"sertanejo\",\"metal\"]"
   ]
  },
  {
   "cell_type": "code",
   "execution_count": null,
   "metadata": {
    "collapsed": true
   },
   "outputs": [],
   "source": []
  },
  {
   "cell_type": "code",
   "execution_count": 4,
   "metadata": {
    "collapsed": true
   },
   "outputs": [],
   "source": [
    "#\n",
    "#    Playlists  -   (nome,user,id)\n",
    "#\n",
    "\n",
    "lista_playlists_rock = [[\"volume máximo\",\"spotify\",\"37i9dQZF1DX4908CEYEdlz\"],\n",
    "                        [\"rock this\",\"spotify\",\"37i9dQZF1DXcF6B6QPhFDv\"],\n",
    "                        [\"rock solid\",\"spotify\",\"37i9dQZF1DX49jUV2NfGku\"],\n",
    "                        [\"pure rock & roll\",\"spotify\",\"37i9dQZF1DWWRktbhJiuqL\"],\n",
    "                        [\"legendary guitar solos\",\"spotify\",\"37i9dQZF1DWSlJG7YPUBHF\"],\n",
    "                        [\"power ballads\",\"spotify\",\"37i9dQZF1DX82Zzp6AKx64\"],\n",
    "                        [\"90s pop rock essentials\",\"spotify\",\"37i9dQZF1DX3YMp9n8fkNx\"],\n",
    "                        [\"workday: rock classincs\",\"spotify\",\"37i9dQZF1DX1lwxXvReaux\"],\n",
    "                        [\"rock save the queen\",\"spotify\",\"37i9dQZF1DXcDnIr0iKAG8\"],\n",
    "                        [\"rock brazuca\",\"digster_brasil\",\"7tJSlaad9s6aiGloaqRJML\"]]\n",
    "\n",
    "\n",
    "\n",
    "lista_playlists_funk = [[\"funk 25\",\"spotify\",\"37i9dQZF1DWTkIwO2HDifB\"],\n",
    "                        [\"bonde do funk\",\"spotify\",\"37i9dQZF1DWYYeOy9vs7I5\"],\n",
    "                        [\"absurdamente funk\",\"onerpm\",\"4ut6RdaC7vEH5SpI5MXnnT\"],\n",
    "                        [\"baile funk\",\"filtr.br\",\"67z7xW9dTE9DIPStaywvxB\"],\n",
    "                        [\"funk divas\",\"spotify\",\"37i9dQZF1DWTSW6EnevZMi\"],\n",
    "                        [\"this is mc guime\",\"spotify\",\"37i9dQZF1DXa7ipSktWMpx\"],\n",
    "                        [\"funk na laje\",\"digster_brasil\",\"5eBQ5t5KiODgoezdnR0edQ\"],\n",
    "                        [\"this is mc bin laden\",\"spotify\",\"37i9dQZF1DXdPrxabRfeD5\"],\n",
    "                        [\"baile novo\",\"spotify\",\"37i9dQZF1DX3nEjIEd6k1k\"],\n",
    "                        [\"funk 2017\",\"filtr.br\",\"1rjCkO3uhxg6DvuKGQ5Uou\"]]\n",
    "\n",
    "lista_playlists_sertanejo = [[\"sertanejo 2017\",\"filtr.br\",\"4ApmKHtHuz8ToUrz6OOPf3\"],\n",
    "                             [\"sertanejo universitario 2017\",\"vini_kam\",\"4C7la5DHqabGdAaJ3615I5\"],\n",
    "                             [\"esquenta sertanejo\",\"spotify\",\"37i9dQZF1DXdSjVZQzv2tl\"],\n",
    "                             [\"potencia sertanejo\",\"spotify\",\"37i9dQZF1DX5lAV5ZGu9ik\"],\n",
    "                             [\"classicos sertanejos\",\"spotify\",\"37i9dQZF1DX7IK76Iw6baR\"],\n",
    "                             [\"sertanejo no trabalho\",\"spotify\",\"37i9dQZF1DWUkWvWISwtjS\"],\n",
    "                             [\"sextaneja\",\"digster_brasil\",\"429AhnPSHFmHsPrdLu1Zuj\"],\n",
    "                             [\"sertanejo romantico\",\"somlivre\",\"1YSZZdqxRaMUnzd7ThNe71\"],\n",
    "                             [\"festa sertaneja\",\"filtr.br\",\"13q6Cd96yY0ww3k7Fc8pWl\"],\n",
    "                             [\"this is luan santana\",\"spotify\",\"37i9dQZF1DXarYcE40q7Zs\"]]\n",
    "lista_playlists_rap = [[\"rapublica\",\"spotify\",\"37i9dQZF1DWSIvbYYt1Dvi\"],\n",
    "                       [\"proxima rima\",\"spotify\",\"37i9dQZF1DWYBXtbGSCurj\"],\n",
    "                       [\"rap e compromisso\",\"onerpm\",\"4eoAeASXEEa3s8CC5SVsCH\"],\n",
    "                       [\"hip hop 2017\",\"mejoresplaylistsspotify\",\"0OtdLZ5JVyqB4Zp8aylECe\"],\n",
    "                       [\"rap caviar\",\"spotify\",\"37i9dQZF1DX0XUsuxWHRQd\"],\n",
    "                       [\"hip hop crew\",\"spotify\",\"37i9dQZF1DXb8e91bM8R51\"],\n",
    "                       [\"most necessary\",\"spotify\",\"37i9dQZF1DX2RxBh64BHjQ\"],\n",
    "                       [\"urban poet\",\"spotify\",\"37i9dQZF1DWSTeI2WWFaia\"],\n",
    "                       [\"trabalho com hip hop\",\"filtr.br\",\"5jTImMGAxkRqwfB4p7PJC3\"],\n",
    "                       [\"rap the set\",\"digster.fm\",\"5HYnMEFnXw6j9Xj8DIth0f\"]]\n",
    "lista_playlists_eletronica = [[\"edm room\",\"spotify\",\"37i9dQZF1DXaPK7HyVedIT\"],\n",
    "                              [\"eletro br\",\"spotify\",\"37i9dQZF1DXd14ByHZraz1\"],\n",
    "                              [\"mint\",\"spotify\",\"37i9dQZF1DX4dyzvuaRJ0n\"],\n",
    "                              [\"dance party\",\"spotify\",\"37i9dQZF1DXaXB8fQg7xif\"],\n",
    "                              [\"housewek\",\"spotify\",\"37i9dQZF1DXa8NOEUWPn9W\"],\n",
    "                              [\"edm beats\",\"playlistmebrasil\",\"4fwESuhQHeVxXJjDUUVlvv\"],\n",
    "                              [\"chill tracks\",\"spotify\",\"37i9dQZF1DX6VdMW310YC7\"],\n",
    "                              [\"vacation haus\",\"spotify\",\"37i9dQZF1DWT8fmnlYTQW3\"],\n",
    "                              [\"ibiza vibes\",\"spotify\",\"37i9dQZF1DWV6K3lprq7Lc\"],\n",
    "                              [\"bass face\",\"spotify\",\"37i9dQZF1DX2vEc9fKrard\"]]\n",
    "lista_playlists_metal = [[\"old school metal\",\"spotify\",\"37i9dQZF1DX2LTcinqsO68\"],\n",
    "                         [\"deuses do metal\",\"spotify\",\"37i9dQZF1DWTDvefqi2DvL\"],\n",
    "                         [\"heavy metal\",\"spotify\",\"37i9dQZF1DX9qNs32fujYe\"],\n",
    "                         [\"thrash metal - big 4\",\"spotify\",\"37i9dQZF1DWZdFtcHGe8ED\"],\n",
    "                         [\"extreme metal workout\",\"spotify\",\"37i9dQZF1DWY3PJWG3ogmJ\"],\n",
    "                         [\"thrash metal - big 5\",\"spotify\",\"37i9dQZF1DXcWC95w8Zh09\"],\n",
    "                         [\"metalsucks playlist\",\"metalsucks\",\"40C5k2GWBlficlUyQKmR0S\"],\n",
    "                         [\"year in metal 2016\",\"spotify\",\"37i9dQZF1DX0FNUL0tXob1\"],\n",
    "                         [\"black sabbath: the dio years\",\"spotify\",\"37i9dQZF1DXcKmFL2DMoCZ\"],\n",
    "                         [\"metal domination\",\"spotify\",\"37i9dQZF1DX2lfnpRKY6V3\"]]"
   ]
  },
  {
   "cell_type": "code",
   "execution_count": null,
   "metadata": {
    "collapsed": true
   },
   "outputs": [],
   "source": []
  },
  {
   "cell_type": "raw",
   "metadata": {},
   "source": []
  },
  {
   "cell_type": "code",
   "execution_count": null,
   "metadata": {
    "collapsed": true
   },
   "outputs": [],
   "source": []
  },
  {
   "cell_type": "code",
   "execution_count": 6,
   "metadata": {},
   "outputs": [
    {
     "ename": "NameError",
     "evalue": "name 'rock_yes' is not defined",
     "output_type": "error",
     "traceback": [
      "\u001b[1;31m---------------------------------------------------------------------------\u001b[0m",
      "\u001b[1;31mNameError\u001b[0m                                 Traceback (most recent call last)",
      "\u001b[1;32m<ipython-input-6-171ac7257df1>\u001b[0m in \u001b[0;36m<module>\u001b[1;34m()\u001b[0m\n\u001b[1;32m----> 1\u001b[1;33m \u001b[0mlista_df\u001b[0m \u001b[1;33m=\u001b[0m \u001b[1;33m[\u001b[0m\u001b[0mrock_yes\u001b[0m\u001b[1;33m,\u001b[0m\u001b[0mrap_yes\u001b[0m\u001b[1;33m,\u001b[0m\u001b[0meletronica_yes\u001b[0m\u001b[1;33m,\u001b[0m\u001b[0mfunk_yes\u001b[0m\u001b[1;33m,\u001b[0m\u001b[0msertanejo_yes\u001b[0m\u001b[1;33m,\u001b[0m\u001b[0mmetal_yes\u001b[0m\u001b[1;33m]\u001b[0m\u001b[1;33m\u001b[0m\u001b[0m\n\u001b[0m\u001b[0;32m      2\u001b[0m \u001b[0mcount_train\u001b[0m \u001b[1;33m=\u001b[0m \u001b[1;36m0\u001b[0m\u001b[1;33m\u001b[0m\u001b[0m\n\u001b[0;32m      3\u001b[0m \u001b[1;32mfor\u001b[0m \u001b[0mi\u001b[0m \u001b[1;32min\u001b[0m \u001b[0mrange\u001b[0m\u001b[1;33m(\u001b[0m\u001b[0mlen\u001b[0m\u001b[1;33m(\u001b[0m\u001b[0mlista_df\u001b[0m\u001b[1;33m)\u001b[0m\u001b[1;33m)\u001b[0m\u001b[1;33m:\u001b[0m\u001b[1;33m\u001b[0m\u001b[0m\n\u001b[0;32m      4\u001b[0m     \u001b[0ma\u001b[0m \u001b[1;33m=\u001b[0m \u001b[0mlista_df\u001b[0m\u001b[1;33m[\u001b[0m\u001b[0mi\u001b[0m\u001b[1;33m]\u001b[0m\u001b[1;33m.\u001b[0m\u001b[0mcount\u001b[0m\u001b[1;33m(\u001b[0m\u001b[1;33m)\u001b[0m\u001b[1;33m[\u001b[0m\u001b[1;36m0\u001b[0m\u001b[1;33m]\u001b[0m\u001b[1;33m\u001b[0m\u001b[0m\n\u001b[0;32m      5\u001b[0m     \u001b[0mprint\u001b[0m\u001b[1;33m(\u001b[0m\u001b[0ma\u001b[0m\u001b[1;33m)\u001b[0m\u001b[1;33m\u001b[0m\u001b[0m\n",
      "\u001b[1;31mNameError\u001b[0m: name 'rock_yes' is not defined"
     ]
    }
   ],
   "source": [
    "lista_df = [rock_yes,rap_yes,eletronica_yes,funk_yes,sertanejo_yes,metal_yes]\n",
    "count_train = 0\n",
    "for i in range(len(lista_df)):\n",
    "    a = lista_df[i].count()[0]\n",
    "    print(a)\n",
    "    count_train += a"
   ]
  },
  {
   "cell_type": "code",
   "execution_count": 7,
   "metadata": {},
   "outputs": [
    {
     "ename": "NameError",
     "evalue": "name 'rock_yes' is not defined",
     "output_type": "error",
     "traceback": [
      "\u001b[1;31m---------------------------------------------------------------------------\u001b[0m",
      "\u001b[1;31mNameError\u001b[0m                                 Traceback (most recent call last)",
      "\u001b[1;32m<ipython-input-7-c88130fb6299>\u001b[0m in \u001b[0;36m<module>\u001b[1;34m()\u001b[0m\n\u001b[0;32m      2\u001b[0m \u001b[1;31m#\u001b[0m\u001b[1;33m\u001b[0m\u001b[1;33m\u001b[0m\u001b[0m\n\u001b[0;32m      3\u001b[0m \u001b[1;31m# rock train\u001b[0m\u001b[1;33m\u001b[0m\u001b[1;33m\u001b[0m\u001b[0m\n\u001b[1;32m----> 4\u001b[1;33m \u001b[0mlistx\u001b[0m \u001b[1;33m=\u001b[0m \u001b[1;33m[\u001b[0m\u001b[0mrock_yes\u001b[0m\u001b[1;33m,\u001b[0m\u001b[0mrap_yes\u001b[0m\u001b[1;33m,\u001b[0m\u001b[0meletronica_yes\u001b[0m\u001b[1;33m,\u001b[0m\u001b[0mfunk_yes\u001b[0m\u001b[1;33m,\u001b[0m\u001b[0msertanejo_yes\u001b[0m\u001b[1;33m,\u001b[0m\u001b[0mmetal_yes\u001b[0m\u001b[1;33m]\u001b[0m\u001b[1;33m\u001b[0m\u001b[0m\n\u001b[0m\u001b[0;32m      5\u001b[0m \u001b[1;32mdef\u001b[0m \u001b[0mmake_genre_no\u001b[0m\u001b[1;33m(\u001b[0m\u001b[0mdf\u001b[0m\u001b[1;33m,\u001b[0m\u001b[0midx\u001b[0m\u001b[1;33m)\u001b[0m\u001b[1;33m:\u001b[0m\u001b[1;33m\u001b[0m\u001b[0m\n\u001b[0;32m      6\u001b[0m     \u001b[0mlisttemp\u001b[0m \u001b[1;33m=\u001b[0m \u001b[1;33m[\u001b[0m\u001b[0mrock_yes\u001b[0m\u001b[1;33m,\u001b[0m\u001b[0mrap_yes\u001b[0m\u001b[1;33m,\u001b[0m\u001b[0meletronica_yes\u001b[0m\u001b[1;33m,\u001b[0m\u001b[0mfunk_yes\u001b[0m\u001b[1;33m,\u001b[0m\u001b[0msertanejo_yes\u001b[0m\u001b[1;33m,\u001b[0m\u001b[0mmetal_yes\u001b[0m\u001b[1;33m]\u001b[0m\u001b[1;33m\u001b[0m\u001b[0m\n",
      "\u001b[1;31mNameError\u001b[0m: name 'rock_yes' is not defined"
     ]
    }
   ],
   "source": [
    "# data train #\n",
    "#\n",
    "# rock train\n",
    "listx = [rock_yes,rap_yes,eletronica_yes,funk_yes,sertanejo_yes,metal_yes]\n",
    "def make_genre_no(df,idx):\n",
    "    listtemp = [rock_yes,rap_yes,eletronica_yes,funk_yes,sertanejo_yes,metal_yes]\n",
    "    \n",
    "    num_df = df.count()[0]\n",
    "    del listtemp[idx]\n",
    "    num_songs_no_per_g = num_df//len(listtemp)\n",
    "    df_no = listtemp[0]\n",
    "    frames = []\n",
    "    for i in range(len(listtemp)):\n",
    "        frames.append(listtemp[i].iloc[0:num_songs_no_per_g,:])\n",
    "    df_no = pd.concat(frames)\n",
    "    return df_no\n",
    "        \n",
    "        \n",
    "    \n",
    "    \n"
   ]
  },
  {
   "cell_type": "code",
   "execution_count": null,
   "metadata": {
    "collapsed": true
   },
   "outputs": [],
   "source": [
    "lista_df = [rock_yes,rap_yes,eletronica_yes,funk_yes,sertanejo_yes,metal_yes]\n",
    "\n",
    "rock_no = make_genre_no(rock_yes,0) \n",
    "rap_no = make_genre_no(rap_yes,1)\n",
    "eletronica_no = make_genre_no(eletronica_yes,2)\n",
    "funk_no = make_genre_no(funk_yes,3)\n",
    "sertanejo_no = make_genre_no(sertanejo_yes,4)\n",
    "metal_no = make_genre_no(metal_yes,5)"
   ]
  },
  {
   "cell_type": "code",
   "execution_count": 8,
   "metadata": {},
   "outputs": [
    {
     "ename": "NameError",
     "evalue": "name 'rock_no' is not defined",
     "output_type": "error",
     "traceback": [
      "\u001b[1;31m---------------------------------------------------------------------------\u001b[0m",
      "\u001b[1;31mNameError\u001b[0m                                 Traceback (most recent call last)",
      "\u001b[1;32m<ipython-input-8-7067e395b991>\u001b[0m in \u001b[0;36m<module>\u001b[1;34m()\u001b[0m\n\u001b[1;32m----> 1\u001b[1;33m \u001b[0mrock_no\u001b[0m\u001b[1;33m.\u001b[0m\u001b[0mto_csv\u001b[0m\u001b[1;33m(\u001b[0m\u001b[1;34m\"not_rock_df.csv\"\u001b[0m\u001b[1;33m,\u001b[0m\u001b[0mencoding\u001b[0m\u001b[1;33m=\u001b[0m\u001b[1;34m\"utf-8\"\u001b[0m\u001b[1;33m)\u001b[0m\u001b[1;33m\u001b[0m\u001b[0m\n\u001b[0m\u001b[0;32m      2\u001b[0m \u001b[1;33m\u001b[0m\u001b[0m\n\u001b[0;32m      3\u001b[0m \u001b[0mfunk_no\u001b[0m\u001b[1;33m.\u001b[0m\u001b[0mto_csv\u001b[0m\u001b[1;33m(\u001b[0m\u001b[1;34m\"not_funk_df.csv\"\u001b[0m\u001b[1;33m,\u001b[0m\u001b[0mencoding\u001b[0m\u001b[1;33m=\u001b[0m\u001b[1;34m\"utf-8\"\u001b[0m\u001b[1;33m)\u001b[0m\u001b[1;33m\u001b[0m\u001b[0m\n\u001b[0;32m      4\u001b[0m \u001b[1;33m\u001b[0m\u001b[0m\n\u001b[0;32m      5\u001b[0m \u001b[0mrap_no\u001b[0m\u001b[1;33m.\u001b[0m\u001b[0mto_csv\u001b[0m\u001b[1;33m(\u001b[0m\u001b[1;34m\"not_rap_df.csv\"\u001b[0m\u001b[1;33m,\u001b[0m\u001b[0mencoding\u001b[0m\u001b[1;33m=\u001b[0m\u001b[1;34m\"utf-8\"\u001b[0m\u001b[1;33m)\u001b[0m\u001b[1;33m\u001b[0m\u001b[0m\n",
      "\u001b[1;31mNameError\u001b[0m: name 'rock_no' is not defined"
     ]
    }
   ],
   "source": [
    "rock_no.to_csv(\"not_rock_df.csv\",encoding=\"utf-8\")\n",
    "\n",
    "funk_no.to_csv(\"not_funk_df.csv\",encoding=\"utf-8\")\n",
    "\n",
    "rap_no.to_csv(\"not_rap_df.csv\",encoding=\"utf-8\")\n",
    "\n",
    "eletronica_no.to_csv(\"not_eletronica_df.csv\",encoding=\"utf-8\")\n",
    "\n",
    "sertanejo_no.to_csv(\"not_sertanejo_df.csv\",encoding=\"utf-8\")\n",
    "\n",
    "metal_no.to_csv(\"not_metal_df.csv\",encoding=\"utf-8\")"
   ]
  },
  {
   "cell_type": "code",
   "execution_count": null,
   "metadata": {
    "collapsed": true
   },
   "outputs": [],
   "source": [
    "frames = [rap_yes,eletronica_yes,funk_yes,sertanejo_yes,metal_yes]\n",
    "dall_not_rock = pd.concat(frames)\n",
    "dall_not_rock.to_csv(\"all_not_rock.csv\",encoding=\"utf-8\")"
   ]
  },
  {
   "cell_type": "code",
   "execution_count": null,
   "metadata": {
    "collapsed": true
   },
   "outputs": [],
   "source": [
    "dtest = pd.read_csv(\"not_metal_df.csv\")\n"
   ]
  },
  {
   "cell_type": "code",
   "execution_count": null,
   "metadata": {
    "collapsed": true
   },
   "outputs": [],
   "source": [
    "##\n",
    "\n",
    "##\n",
    "\n",
    "## M00Ds!\n",
    "\n",
    "## Relaxe    Party   Gym    Focus   \n",
    "\n",
    "\n",
    "list_relax = [[\"desplugado\",\"spotify\",\"37i9dQZF1DX7nC9vdKqBZ5\"],\n",
    "              [\"soul house relax\",\"spotify\",\"37i9dQZF1DWZeXxACCcUmL\"],\n",
    "              [\"hora acustica\",\"spotify\",\"37i9dQZF1DX3EQWTTNVPtu\"],\n",
    "              [\"acustico relax\",\"filtr.br\",\"3ofwArWXZqSqdOuVsVDzBS\"],\n",
    "              [\"totally stress free\",\"spotify\",\"37i9dQZF1DWT7XSlwvR1ar\"],\n",
    "              [\"chill.out.brain\",\"spotify\",\"37i9dQZF1DX3PIPIT6lEg5\"],\n",
    "              [\"chilling on a dirt road\",\"spotify\",\"37i9dQZF1DWTkxQvqMy4WW\"],\n",
    "              [\"peaceful\",\"spotify\",\"37i9dQZF1DWZqd5JICZI0u\"],\n",
    "              [\"calm down\",\"spotify\",\"37i9dQZF1DX5bjCEbRU4SJ\"],\n",
    "              [\"yoga e meditation\",\"spotify\",\"37i9dQZF1DX9uKNf5jGX6m\"]\n",
    "             ]\n"
   ]
  },
  {
   "cell_type": "code",
   "execution_count": null,
   "metadata": {
    "collapsed": true
   },
   "outputs": [],
   "source": []
  },
  {
   "cell_type": "code",
   "execution_count": null,
   "metadata": {
    "collapsed": true
   },
   "outputs": [],
   "source": [
    "lista_url_gym = [\"https://open.spotify.com/user/spotify/playlist/37i9dQZF1DXdxcBWuJkbcy\",\n",
    "                \"https://open.spotify.com/user/spotify/playlist/37i9dQZF1DX76Wlfdnj7AP\",\"https://open.spotify.com/user/spotify/playlist/37i9dQZF1DXakWdSZ8mUMO\",\"https://open.spotify.com/user/filtr.br/playlist/12kNrq0RnI0Y1s4UfxmYro\",\"https://open.spotify.com/user/spotify/playlist/37i9dQZF1DWSJHnPb1f0X3\",\"https://open.spotify.com/user/spotify/playlist/37i9dQZF1DX9BXb6GsGCLl\",\"https://open.spotify.com/user/spotify/playlist/37i9dQZF1DWZYWNM3NfvzJ\",\"https://open.spotify.com/user/spotify/playlist/37i9dQZF1DX32NsLKyzScr\",\"https://open.spotify.com/user/spotify/playlist/37i9dQZF1DWUVpAXiEPK8P\",\"https://open.spotify.com/user/spotify/playlist/37i9dQZF1DX70RN3TfWWJh\"]\n",
    "lista_url_focus = [\"https://open.spotify.com/user/spotify/playlist/37i9dQZF1DWZeKCadgRdKQ\",\"https://open.spotify.com/user/spotify/playlist/37i9dQZF1DX3PFzdbtx1Us\",\"https://open.spotify.com/user/spotify/playlist/37i9dQZF1DX8NTLI2TtZa6\",\"https://open.spotify.com/user/spotify/playlist/37i9dQZF1DX9sIqqvKsjG8\",\"https://open.spotify.com/user/filtr.ca/playlist/0hZNf3tcMT4x03FyjKYJ3M\",\"https://open.spotify.com/user/spotify/playlist/37i9dQZF1DWT5lkChsPmpy\",\"https://open.spotify.com/user/spotify/playlist/37i9dQZF1DWZIOAPKUdaKS\",\"https://open.spotify.com/user/spotify/playlist/37i9dQZF1DWSluGMsH1R9r\",\"https://open.spotify.com/user/spotify/playlist/37i9dQZF1DXaipYDJRIDH9\",\"https://open.spotify.com/user/spotify/playlist/37i9dQZF1DWWTdxbiocWOL\"]\n",
    "\n",
    "lista_url_party = [\"https://open.spotify.com/user/spotify/playlist/37i9dQZF1DX8mBRYewE6or\",\"https://open.spotify.com/user/spotify/playlist/37i9dQZF1DXaXB8fQg7xif\",\"https://open.spotify.com/user/spotify/playlist/37i9dQZF1DXdWpx7KRCSbJ\",\"https://open.spotify.com/user/spotify/playlist/37i9dQZF1DX0IlCGIUGBsA\",\"https://open.spotify.com/user/spotify/playlist/37i9dQZF1DX3ph0alWhOXm\",\"https://open.spotify.com/user/spotify/playlist/37i9dQZF1DX2pto11EMGQc\",\"https://open.spotify.com/user/filtr.br/playlist/1EKzZkhMwqQ8aPwh9c4nHN\",\"https://open.spotify.com/user/spotify/playlist/37i9dQZF1DWZVV00CYG8D6\",\"https://open.spotify.com/user/spotify/playlist/37i9dQZF1DX7F6T2n2fegs\",\"https://open.spotify.com/user/digster_brasil/playlist/5G0f2zH2I2ivvIcvaNS621\"]\n",
    "\n",
    "list_gym = lister(lista_url_gym )\n",
    "list_focus = lister(lista_url_focus)\n",
    "list_party = lister(lista_url_party)"
   ]
  },
  {
   "cell_type": "code",
   "execution_count": null,
   "metadata": {
    "collapsed": true
   },
   "outputs": [],
   "source": [
    "lista_m = [\"gym\",\"focus\",\"relax\",\"party\"]\n",
    "lista_m,\n",
    "gym_yes = list_download(list_gym,lista_m,\"gym\",1)\n",
    "gym_yes.to_csv(\"gym_df.csv\",encoding=\"utf-8\")\n",
    "\n",
    "focus_yes = list_download(list_focus,lista_m,\"focus\",1)\n",
    "focus_yes.to_csv(\"focus_df.csv\",encoding=\"utf-8\")\n",
    "\n",
    "relax_yes = list_download(list_relax,lista_m,\"relax\",1)\n",
    "relax_yes.to_csv(\"relax_df.csv\",encoding=\"utf-8\")\n",
    "\n",
    "party_yes = list_download(list_party,lista_m,\"party\",1)\n",
    "party_yes.to_csv(\"party_df.csv\",encoding=\"utf-8\")"
   ]
  },
  {
   "cell_type": "code",
   "execution_count": 10,
   "metadata": {
    "collapsed": true
   },
   "outputs": [],
   "source": [
    "def make_mood_no(df,idx):\n",
    "    listtemp = [gym_yes,relax_yes,focus_yes,party_yes]\n",
    "    \n",
    "    num_df = df.count()[0]\n",
    "    del listtemp[idx]\n",
    "    num_songs_no_per_g = num_df//len(listtemp)\n",
    "    df_no = listtemp[0]\n",
    "    frames = []\n",
    "    for i in range(len(listtemp)):\n",
    "        frames.append(listtemp[i].iloc[0:num_songs_no_per_g,:])\n",
    "    df_no = pd.concat(frames)\n",
    "    return df_no\n",
    "gym_no = make_mood_no(gym_yes,0)\n",
    "relax_no = make_mood_no(relax_yes,1)\n",
    "focus_no = make_mood_no(focus_yes,2)\n",
    "party_no = make_mood_no(party_yes,0)"
   ]
  },
  {
   "cell_type": "code",
   "execution_count": null,
   "metadata": {
    "collapsed": true
   },
   "outputs": [],
   "source": [
    "relax_no.to_csv(\"not_relax_df.csv\",encoding=\"utf-8\")\n",
    "gym_no.to_csv(\"not_gym_df.csv\",encoding=\"utf-8\")\n",
    "focus_no.to_csv(\"not_focus_df.csv\",encoding=\"utf-8\")\n",
    "party_no.to_csv(\"not_party_df.csv\",encoding=\"utf-8\")"
   ]
  },
  {
   "cell_type": "code",
   "execution_count": null,
   "metadata": {
    "collapsed": true
   },
   "outputs": [],
   "source": [
    "test_rock = [\"rock hard\",\"spotify\",\"37i9dQZF1DWWJOmJ7nRx0C\"]\n",
    "test_funk = [\"funk pop\",\"spotify\",\"37i9dQZF1DWW6EwN6CPxGO\"]\n",
    "df_test_rock = client.playlist_downloader(test_rock[0],test_rock[1],test_rock[2])\n",
    "df_test_no_rock = client.playlist_downloader(test_funk[0],test_funk[1],test_funk[2])\n",
    "df_test_rock[\"rock\"]=1\n",
    "df_test_no_rock[\"rock\"]=0\n"
   ]
  },
  {
   "cell_type": "code",
   "execution_count": null,
   "metadata": {
    "collapsed": true
   },
   "outputs": [],
   "source": [
    "df_test_no_rock.to_csv(\"test_not_rock_df.csv\",encoding=\"utf-8\")\n",
    "df_test_rock.to_csv(\"test_rock_df.csv\",encoding=\"utf-8\")"
   ]
  },
  {
   "cell_type": "code",
   "execution_count": 11,
   "metadata": {},
   "outputs": [
    {
     "name": "stdout",
     "output_type": "stream",
     "text": [
      "[['playlist1', 'spotify', '5FJXhjdILmRA2z5bvz4nzf'], ['playlist2', 'spotify', '04MJzJlzOoy5bTytJwDsVL'], ['playlist3', 'spotify', '5yolys8XG4q7YfjYGl5Lff'], ['playlist4', 'spotify', '103Zi2NG06F9qimASDrszv'], ['playlist5', 'spotify', '4ecQaDJHF55Ls9m2lKIXbI'], ['playlist6', 'spotify', '6uTuhSs7qiEPfCI3QDHXsL'], ['playlist7', 'spotify', '3MlpudZs4HT3i0yGPVfmHC'], ['playlist8', 'spotify', '7cOO30bzxMm4tO34C9UalD'], ['playlist9', 'spotify', '4BKT5olNFqLB1FAa8OtC8k'], ['playlist10', 'spotify', '5Oo5QuAOjjXMMXphFqC6eo'], ['playlist11', 'spotify', '1GQLlzxBxKTb6tJsD4RxHI'], ['playlist12', 'spotify', '7uDoSz5VxK5lbXgj7tBMG9'], ['playlist13', 'spotify', '4TNBeyX7awz89qwtTmh9D4'], ['playlist14', 'spotify', '7EtGvEVYkL6knEdLxNjHf3'], ['playlist15', 'spotify', '2ujjMpFriZ2nayLmrD1Jgl'], ['playlist16', 'spotify', '5p9ILyu1wb4KKHORoXU8nb'], ['playlist17', 'spotify', '5p9ILyu1wb4KKHORoXU8nb'], ['playlist18', '1159383624', '6czK3dQ181NzcFQmt0ngSi'], ['playlist19', 'elainelin', '6XVhyMuFRS1212blJHTED4'], ['playlist20', 'lmljoe', '0DXoY83tBvgWkd8QH49yAI'], ['playlist21', 'lizyeomans', '4m2hgFlI5hQk85rwD3Pfvf'], ['playlist22', '12185155528', '636WdfgkXObvlSYPqcX9pX'], ['playlist23', 'spotify', '37i9dQZF1DWXx6OpWBkqVv'], ['playlist24', 'spotify', '37i9dQZF1DXdSjVZQzv2tl'], ['playlist25', 'spotifycharts', '37i9dQZEVXbMXbN3EUUhlg'], ['playlist26', 'spotifycharts', '37i9dQZEVXbMDoHDwVN2tF'], ['playlist27', 'spotifycharts', '37i9dQZEVXbMOkSwG072hV'], ['playlist28', 'spotify', '37i9dQZF1DWTsQAU8k2LN7'], ['playlist29', 'spotify', '37i9dQZF1DX34KNiFQJNVm'], ['playlist30', 'spotify', '37i9dQZF1DXb8e91bM8R51'], ['playlist31', 'payyva', '16vM2yG5XRuewto0pay890'], ['playlist32', 'mtvbrasil', '02yrCnZiuurRsp8BIiOaUT'], ['playlist33', 'wwagnermendonca', '1wRmsPfYAENmPayvQ3mLBn'], ['playlist34', 'spotify', '0AEzUnfymkrhPFa6ZNr4P4'], ['playlist35', 'spotify', '5FJXhjdILmRA2z5bvz4nzf?play=true'], ['playlist36', 'spotifybrazilian', '4yYoQnLpbZUiiQM9cFH5BD'], ['playlist37', 'spotify', '37i9dQZF1DWXRqgorJj26U'], ['playlist38', 'spotify', '37i9dQZF1DX30w0JtSIv4j'], ['playlist39', 'spotify', '3ZgmfR6lsnCwdffZUan8EA'], ['playlist40', 'spotify', '37i9dQZF1DX4908CEYEdlz'], ['playlist41', 'spotify', '37i9dQZF1DWZn9s1LNKPiM']]\n"
     ]
    }
   ],
   "source": [
    "all_list = [\n",
    "\"http://open.spotify.com/user/spotify/playlist/5FJXhjdILmRA2z5bvz4nzf\", \n",
    "\"http://open.spotify.com/user/spotify/playlist/04MJzJlzOoy5bTytJwDsVL\", \n",
    "\"http://open.spotify.com/user/spotify/playlist/5yolys8XG4q7YfjYGl5Lff\", \n",
    "\"http://open.spotify.com/user/spotify/playlist/103Zi2NG06F9qimASDrszv\", \n",
    "\"http://open.spotify.com/user/spotify/playlist/4ecQaDJHF55Ls9m2lKIXbI\", \n",
    "\"http://open.spotify.com/user/spotify/playlist/6uTuhSs7qiEPfCI3QDHXsL\", \n",
    "\"http://open.spotify.com/user/spotify/playlist/3MlpudZs4HT3i0yGPVfmHC\", \n",
    "\"http://open.spotify.com/user/spotify/playlist/7cOO30bzxMm4tO34C9UalD\", \n",
    "\"http://open.spotify.com/user/spotify/playlist/4BKT5olNFqLB1FAa8OtC8k\", \n",
    "\"http://open.spotify.com/user/spotify/playlist/5Oo5QuAOjjXMMXphFqC6eo\",  \n",
    "\"http://open.spotify.com/user/spotify/playlist/1GQLlzxBxKTb6tJsD4RxHI\", \n",
    "\"http://open.spotify.com/user/spotify/playlist/7uDoSz5VxK5lbXgj7tBMG9\", \n",
    "\"http://open.spotify.com/user/spotify/playlist/4TNBeyX7awz89qwtTmh9D4\", \n",
    "\"http://open.spotify.com/user/spotify/playlist/7EtGvEVYkL6knEdLxNjHf3\", \n",
    "\"http://open.spotify.com/user/spotify/playlist/2ujjMpFriZ2nayLmrD1Jgl\", \n",
    "\"http://open.spotify.com/user/spotify/playlist/5p9ILyu1wb4KKHORoXU8nb\", \n",
    "\"http://open.spotify.com/user/spotify/playlist/5p9ILyu1wb4KKHORoXU8nb\", \n",
    "\"http://open.spotify.com/user/1159383624/playlist/6czK3dQ181NzcFQmt0ngSi\", \n",
    "\"http://open.spotify.com/user/elainelin/playlist/6XVhyMuFRS1212blJHTED4\", \n",
    "\"http://open.spotify.com/user/lmljoe/playlist/0DXoY83tBvgWkd8QH49yAI\",  \n",
    "\"http://open.spotify.com/user/lizyeomans/playlist/4m2hgFlI5hQk85rwD3Pfvf\", \n",
    "\"https://open.spotify.com/user/12185155528/playlist/636WdfgkXObvlSYPqcX9pX\", \n",
    "\"https://open.spotify.com/user/spotify/playlist/37i9dQZF1DWXx6OpWBkqVv\", \n",
    "\"https://open.spotify.com/user/spotify/playlist/37i9dQZF1DXdSjVZQzv2tl\", \n",
    "\"https://open.spotify.com/user/spotifycharts/playlist/37i9dQZEVXbMXbN3EUUhlg\", \n",
    "\"https://open.spotify.com/user/spotifycharts/playlist/37i9dQZEVXbMDoHDwVN2tF\", \n",
    "\"https://open.spotify.com/user/spotifycharts/playlist/37i9dQZEVXbMOkSwG072hV\", \n",
    "\"https://open.spotify.com/user/spotify/playlist/37i9dQZF1DWTsQAU8k2LN7\", \n",
    "\"https://open.spotify.com/user/spotify/playlist/37i9dQZF1DX34KNiFQJNVm\", \n",
    "\"https://open.spotify.com/user/spotify/playlist/37i9dQZF1DXb8e91bM8R51\", \n",
    "\"https://open.spotify.com/user/payyva/playlist/16vM2yG5XRuewto0pay890\",\n",
    "\"https://open.spotify.com/user/mtvbrasil/playlist/02yrCnZiuurRsp8BIiOaUT\",\n",
    "\"https://open.spotify.com/user/wwagnermendonca/playlist/1wRmsPfYAENmPayvQ3mLBn\",\n",
    "\"https://open.spotify.com/user/spotify/playlist/0AEzUnfymkrhPFa6ZNr4P4\",\n",
    "\"https://open.spotify.com/user/spotify/playlist/5FJXhjdILmRA2z5bvz4nzf?play=true\",\n",
    "\"https://open.spotify.com/user/spotifybrazilian/playlist/4yYoQnLpbZUiiQM9cFH5BD\",\n",
    "\"https://open.spotify.com/user/spotify/playlist/37i9dQZF1DWXRqgorJj26U\",\n",
    "\"https://open.spotify.com/user/spotify/playlist/37i9dQZF1DX30w0JtSIv4j\",\n",
    "\"https://open.spotify.com/user/spotify/playlist/3ZgmfR6lsnCwdffZUan8EA\",\n",
    "\"https://open.spotify.com/user/spotify/playlist/37i9dQZF1DX4908CEYEdlz\",\n",
    "\"https://open.spotify.com/user/spotify/playlist/37i9dQZF1DWZn9s1LNKPiM\"\n",
    "    \n",
    "]        \n",
    "list_all = lister(all_list)\n",
    "\n",
    "print(list_all)"
   ]
  },
  {
   "cell_type": "code",
   "execution_count": null,
   "metadata": {
    "collapsed": true
   },
   "outputs": [],
   "source": [
    "df_all = list_download_blank(list_all)"
   ]
  },
  {
   "cell_type": "code",
   "execution_count": null,
   "metadata": {
    "collapsed": true
   },
   "outputs": [],
   "source": [
    "df_all = df_all.drop_duplicates()\n",
    "df_all"
   ]
  },
  {
   "cell_type": "code",
   "execution_count": null,
   "metadata": {
    "collapsed": true
   },
   "outputs": [],
   "source": [
    "df_all.to_csv(\"giant_df.csv\",encoding=\"utf-8\")"
   ]
  },
  {
   "cell_type": "code",
   "execution_count": null,
   "metadata": {
    "collapsed": true
   },
   "outputs": [],
   "source": [
    "metallica_df = list_download_blank(lister([\"https://open.spotify.com/user/metallicaofficial/playlist/1cJ6lPBYj2fscs0kqBHsVV\"]))\n",
    "metallica_df.to_csv(\"metallica_df.csv\",encoding=\"utf-8\") "
   ]
  },
  {
   "cell_type": "code",
   "execution_count": 51,
   "metadata": {
    "collapsed": true
   },
   "outputs": [],
   "source": [
    "vaporwave = [\"https://open.spotify.com/user/iam3/playlist/17HYiAIcwlDEg5RgVkm4L7\"]\n",
    "samba = [\"https://open.spotify.com/user/sambabook/playlist/383LqftNehenclhJfLKl6r\",\n",
    "        \"https://open.spotify.com/user/spotify/playlist/37i9dQZF1DWTUHOvJwQIMp\",\n",
    "        \"https://open.spotify.com/user/12168830413/playlist/4CN7h81XV2XP9vF2dIgGe7\",\n",
    "        \"https://open.spotify.com/user/martinhodavilaoficial/playlist/5ZjKjMUjlfon1HLeMdnvwA\",\n",
    "        \"https://open.spotify.com/user/mourajo/playlist/1zjl4oY7lcsdiC22JPjtTr\",\n",
    "        \"https://open.spotify.com/user/cbernardo8/playlist/5nj9Txku0i7DjJCWtc71DT\",\n",
    "        \"https://open.spotify.com/user/serapha14/playlist/36QpQeAoTQiahgKo9Q4DV5\",\n",
    "        \"https://open.spotify.com/user/12142247974/playlist/5mWG6vTWj6ALARfYBrXYOS\"]\n",
    "pop = [\"https://open.spotify.com/user/spotify/playlist/37i9dQZF1DX6aTaZa0K6VA\",\n",
    "       \"https://open.spotify.com/user/spotify/playlist/37i9dQZF1DWTwnEm1IYyoj\",\n",
    "      \"https://open.spotify.com/user/sonymusicuk/playlist/1tPWTwuxOLsE2Do1JQSUxA\",\n",
    "      \"https://open.spotify.com/user/spotify/playlist/37i9dQZF1DX50QitC6Oqtn\",\n",
    "      \"https://open.spotify.com/user/spotify/playlist/37i9dQZF1DWUaThf8nMdW6\",\n",
    "      \"https://open.spotify.com/user/spotify/playlist/37i9dQZF1DXcBWIGoYBM5M\",\n",
    "      \"https://open.spotify.com/user/spotify/playlist/37i9dQZF1DWUa8ZRTfalHk\",\n",
    "      \"https://open.spotify.com/user/wolth5/playlist/2yDYrySCmg2RZmnOZ94S63\",\n",
    "      \"https://open.spotify.com/user/spotify/playlist/37i9dQZF1DX1N5uK98ms5p\"]\n",
    "blues = [\"https://open.spotify.com/user/manualdohomemmoderno/playlist/1cNDobjQpdvddb1vkFCMB5\",\n",
    "        \"https://open.spotify.com/user/spotify/playlist/37i9dQZF1DXbkKnGZHv1kf\",\n",
    "        \"https://open.spotify.com/user/spotify/playlist/37i9dQZF1DWWyCCtyRAvGr\",\n",
    "        \"https://open.spotify.com/user/spotify/playlist/37i9dQZF1DWXbxDw7wBcIC\",\n",
    "        \"https://open.spotify.com/user/spotify/playlist/37i9dQZF1DX5AuRugisweW\",\n",
    "        \"https://open.spotify.com/user/spotify/playlist/37i9dQZF1DXcnkReojaCnV\",\n",
    "        \"https://open.spotify.com/user/spotify/playlist/37i9dQZF1DWXEV4YwX6nMt\",\n",
    "        \"https://open.spotify.com/user/spotify/playlist/37i9dQZF1DXaOWYud3Cg4V\",\n",
    "        \"https://open.spotify.com/user/spotify/playlist/37i9dQZF1DWSKpvyAAcaNZ\",\n",
    "        \"https://open.spotify.com/user/spotify/playlist/37i9dQZF1DX8QB9Ys2nV17\"]\n",
    "classica = [\"https://open.spotify.com/user/spotify/playlist/37i9dQZF1DWV0gynK7G6pD\",\n",
    "           \"https://open.spotify.com/user/spotify/playlist/37i9dQZF1DX21bRPJuEN7r\",\n",
    "           \"https://open.spotify.com/user/spotify/playlist/37i9dQZF1DXaky0wMRgvaj\",\n",
    "           \"https://open.spotify.com/user/spotify/playlist/37i9dQZF1DWWEJlAGA9gs0\",\n",
    "           \"https://open.spotify.com/user/spotify/playlist/37i9dQZF1DXcN1fAVSf7CR\",\n",
    "           \"https://open.spotify.com/user/spotify/playlist/37i9dQZF1DXdazL2M92igj\",\n",
    "           \"https://open.spotify.com/user/spotify/playlist/37i9dQZF1DX9G9wwzwWL2k\",\n",
    "           \"https://open.spotify.com/user/spotify/playlist/37i9dQZF1DWYZW76Iw4Lij\",\n",
    "           \"https://open.spotify.com/user/spotify/playlist/37i9dQZF1DWVfS4Cdd3PNf\",\n",
    "           \"https://open.spotify.com/user/spotify/playlist/37i9dQZF1DX0ynPp7KaiSY\",\n",
    "           \"https://open.spotify.com/user/spotify/playlist/37i9dQZF1DWXjj6kdiviS0\",\n",
    "           \"https://open.spotify.com/user/spotify/playlist/37i9dQZF1DX7TvcXU5TLWg\",\n",
    "           \"https://open.spotify.com/user/spotify/playlist/37i9dQZF1DXbm0dp7JzNeL\",\n",
    "           \"https://open.spotify.com/user/spotify/playlist/37i9dQZF1DWSXyN2w7ILMl\"]\n",
    "punk = [\n",
    "       \"https://open.spotify.com/user/spotify/playlist/37i9dQZF1DX0KpeLFwA3tO\",\n",
    "       \"https://open.spotify.com/user/theramonesofficial/playlist/5cs51izx3ZXvmupfUOlPpf\",\n",
    "       \"https://open.spotify.com/user/spotify/playlist/37i9dQZF1DXa9wYJr1oMFq\",\n",
    "       \"https://open.spotify.com/user/spotify/playlist/37i9dQZF1DXd6tJtr4qeot\",\n",
    "       \"https://open.spotify.com/user/spotify/playlist/37i9dQZF1DX3MU5XUozve7\",\n",
    "       \"https://open.spotify.com/user/1121932299/playlist/3HILyIo22ZfrOQuWfc8mW1\",\n",
    "       \"https://open.spotify.com/user/spotify/playlist/37i9dQZF1DWU0FBqUeZYeN\",\n",
    "       \"https://open.spotify.com/user/spotify/playlist/37i9dQZF1DXaDzsRodF91I\",\n",
    "       \"https://open.spotify.com/user/spotify/playlist/37i9dQZF1DXdJa941ExayM\"]\n",
    "reggae = [\"https://open.spotify.com/user/spotify/playlist/37i9dQZF1DWTMlvEhEJDRB\",\n",
    "         \"https://open.spotify.com/user/spotify/playlist/37i9dQZF1DWSiyIBdVQrkk\",\n",
    "         \"https://open.spotify.com/user/spotify/playlist/37i9dQZF1DX3mvx0imueXo\",\n",
    "         \"https://open.spotify.com/user/spotify/playlist/37i9dQZF1DX5lK3vvanTs8\",\n",
    "         \"https://open.spotify.com/user/spotify/playlist/37i9dQZF1DX6u62UVrRdZV\",\n",
    "         \"https://open.spotify.com/user/spotify/playlist/37i9dQZF1DWSkkUxEhrBdF\",\n",
    "         \"https://open.spotify.com/user/boogalooboo/playlist/4gRio043A2No9SRU7ERq6q\",\n",
    "         \"https://open.spotify.com/user/spotify/playlist/37i9dQZF1DWVYs6zNzJ0ci\",\n",
    "         \"https://open.spotify.com/user/spotify_uk_/playlist/5rowrSebXI7SzazOhpaJNe\",\n",
    "         \"https://open.spotify.com/user/spotify/playlist/37i9dQZF1DXbSbnqxMTGx9\"]\n",
    "jazz = [\"https://open.spotify.com/user/spotify/playlist/37i9dQZF1DX7YCknf2jT6s\",\n",
    "       \"https://open.spotify.com/user/spotify/playlist/37i9dQZF1DXbOVU4mpMJjh\",\n",
    "       \"https://open.spotify.com/user/spotify/playlist/37i9dQZF1DWVqfgj8NZEp1\",\n",
    "       \"https://open.spotify.com/user/spotify/playlist/37i9dQZF1DX4wta20PHgwo\",\n",
    "       \"https://open.spotify.com/user/spotify/playlist/37i9dQZF1DX5OepaGriAIm\",\n",
    "       \"https://open.spotify.com/user/spotify/playlist/37i9dQZF1DXbITWG1ZJKYt\",\n",
    "       \"https://open.spotify.com/user/spotify/playlist/37i9dQZF1DWTbzY5gOVvKd\",\n",
    "       \"https://open.spotify.com/user/spotify/playlist/37i9dQZF1DX0SM0LYsmbMT\",\n",
    "       \"https://open.spotify.com/user/spotify/playlist/37i9dQZF1DWYgA6FKKHSd6\",\n",
    "       \"https://open.spotify.com/user/spotify/playlist/37i9dQZF1DX5Lf3LZ6Czqu\"]\n",
    "mpb = [\"https://open.spotify.com/user/12142195183/playlist/0npwe92QJnGIVveOLHofQw\",\n",
    "      \"https://open.spotify.com/user/spotify/playlist/37i9dQZF1DX9FSYmdU9mbT\",\n",
    "      \"https://open.spotify.com/user/tainanolveira/playlist/3LNWderZ6Lc09nMGBV5U5K\",\n",
    "      \"https://open.spotify.com/user/22z4mfgbxq4s6cpg3x5iv7ofa/playlist/4af3rkkQ8tA3cRKNm6gkFa\",\n",
    "      \"https://open.spotify.com/user/12174648846/playlist/6ljjNFUdKHDnpPVslmuArC\",\n",
    "      \"https://open.spotify.com/user/spotify/playlist/37i9dQZF1DX8eh9G7VlzAT\",\n",
    "      \"https://open.spotify.com/user/spotify/playlist/37i9dQZF1DX87C559Ss01a\",\n",
    "      \"https://open.spotify.com/user/12152277648/playlist/74pplBPrrw4LVVFMQ8IoiD\",\n",
    "      \"https://open.spotify.com/user/vozesdobrasil-mpb/playlist/2LWQqYlWYyLe5yOWM5L3J3\",\n",
    "      \"https://open.spotify.com/user/12175917631/playlist/3aVPrPl2oArP1wFv7iLGU2\"]\n",
    "\n"
   ]
  },
  {
   "cell_type": "code",
   "execution_count": 17,
   "metadata": {},
   "outputs": [
    {
     "name": "stdout",
     "output_type": "stream",
     "text": [
      "1\n",
      "SO DONE\n",
      "1\n",
      "2\n",
      "3\n",
      "4\n",
      "5\n",
      "6\n",
      "7\n",
      "8\n",
      "SO DONE\n"
     ]
    }
   ],
   "source": [
    "vaporwave_df = list_download_blank(lister(vaporwave))\n",
    "\n",
    "samba_df = list_download_blank(lister(samba))\n"
   ]
  },
  {
   "cell_type": "code",
   "execution_count": 33,
   "metadata": {},
   "outputs": [
    {
     "name": "stdout",
     "output_type": "stream",
     "text": [
      "1\n",
      "2\n",
      "3\n",
      "4\n",
      "5\n",
      "6\n",
      "7\n",
      "8\n",
      "9\n",
      "SO DONE\n"
     ]
    }
   ],
   "source": [
    "pop_df = list_download_blank(lister(pop))\n"
   ]
  },
  {
   "cell_type": "code",
   "execution_count": 36,
   "metadata": {},
   "outputs": [
    {
     "name": "stdout",
     "output_type": "stream",
     "text": [
      "1\n",
      "2\n",
      "3\n",
      "4\n",
      "5\n",
      "6\n",
      "7\n",
      "8\n",
      "9\n",
      "10\n",
      "11\n",
      "12\n",
      "13\n",
      "14\n",
      "SO DONE\n"
     ]
    }
   ],
   "source": [
    "classica_df = list_download_blank(lister(classica))\n"
   ]
  },
  {
   "cell_type": "code",
   "execution_count": 42,
   "metadata": {},
   "outputs": [
    {
     "name": "stdout",
     "output_type": "stream",
     "text": [
      "1\n",
      "2\n",
      "3\n",
      "4\n",
      "5\n",
      "6\n",
      "7\n",
      "8\n",
      "9\n",
      "SO DONE\n",
      "1\n",
      "2\n",
      "3\n",
      "4\n",
      "5\n",
      "6\n",
      "7\n",
      "8\n",
      "9\n",
      "10\n",
      "SO DONE\n",
      "1\n",
      "2\n",
      "3\n",
      "4\n",
      "5\n",
      "6\n",
      "7\n",
      "8\n",
      "9\n",
      "10\n",
      "SO DONE\n"
     ]
    }
   ],
   "source": [
    "punk_df = list_download_blank(lister(punk))\n",
    "reggae_df = list_download_blank(lister(reggae))\n",
    "jazz_df = list_download_blank(lister(jazz))\n"
   ]
  },
  {
   "cell_type": "code",
   "execution_count": 45,
   "metadata": {},
   "outputs": [
    {
     "name": "stdout",
     "output_type": "stream",
     "text": [
      "1\n",
      "2\n",
      "3\n",
      "4\n",
      "5\n",
      "6\n",
      "7\n",
      "8\n",
      "9\n",
      "10\n",
      "SO DONE\n"
     ]
    }
   ],
   "source": [
    "mpb_df = list_download_blank(lister(mpb))"
   ]
  },
  {
   "cell_type": "code",
   "execution_count": 52,
   "metadata": {},
   "outputs": [
    {
     "name": "stdout",
     "output_type": "stream",
     "text": [
      "1\n",
      "2\n",
      "3\n",
      "4\n",
      "5\n",
      "6\n",
      "7\n",
      "8\n",
      "9\n",
      "10\n",
      "SO DONE\n"
     ]
    }
   ],
   "source": [
    "blues_df = list_download_blank(lister(blues))"
   ]
  },
  {
   "cell_type": "code",
   "execution_count": null,
   "metadata": {
    "collapsed": true
   },
   "outputs": [],
   "source": [
    "vaporwave_df"
   ]
  },
  {
   "cell_type": "code",
   "execution_count": 53,
   "metadata": {
    "collapsed": true
   },
   "outputs": [],
   "source": [
    "vaporwave_df.to_csv(\"vaporwave_df.csv\",encoding=\"utf-8\")\n",
    "samba_df.to_csv(\"samba_df.csv\",encoding=\"utf-8\")\n",
    "classica_df.to_csv(\"classica_df.csv\",encoding=\"utf-8\")\n",
    "pop_df.to_csv(\"pop_df.csv\",encoding=\"utf-8\")\n",
    "mpb_df.to_csv(\"mpb_df.csv\",encoding=\"utf-8\")\n",
    "punk_df.to_csv(\"punk_df.csv\",encoding=\"utf-8\")\n",
    "reggae_df.to_csv(\"reggae_df.csv\",encoding=\"utf-8\")\n",
    "jazz_df.to_csv(\"jazz_df.csv\",encoding=\"utf-8\")\n",
    "blues_df.to_csv(\"blues_df.csv\",encoding=\"utf-8\")"
   ]
  },
  {
   "cell_type": "code",
   "execution_count": 58,
   "metadata": {
    "collapsed": true
   },
   "outputs": [],
   "source": [
    "def make_genre_no(df,idx,name):\n",
    "    listtemp = [vaporwave_df,samba_df,classica_df,pop_df,mpb_df,punk_df,reggae_df,jazz_df,blues_df]\n",
    "    \n",
    "    num_df = len(df)\n",
    "    del listtemp[idx]\n",
    "    num_songs_no_per_g = num_df//len(listtemp)\n",
    "    df_no = listtemp[0]\n",
    "    frames = []\n",
    "    for i in range(len(listtemp)):\n",
    "        frames.append(listtemp[i].iloc[0:num_songs_no_per_g,:])\n",
    "    df_no = pd.concat(frames)\n",
    "    df_no.to_csv(\"not_\"+name+\"_df.csv\",encoding=\"utf-8\")\n",
    "    return df_no\n",
    "vaporwave_no = make_genre_no(vaporwave_df,0,\"vaporwave\")\n",
    "samba_no = make_genre_no(samba_df,1,\"samba\")\n",
    "classica_no = make_genre_no(classica_df,2,\"classica\")\n",
    "pop_no = make_genre_no(pop_df,3,\"pop\")\n",
    "mpb_no = make_genre_no(mpb_df,4,\"mpb\")\n",
    "punk_no = make_genre_no(punk_df,5,\"punk\")\n",
    "reggae_no = make_genre_no(reggae_df,6,\"reggae\")\n",
    "jazz_no = make_genre_no(jazz_df,7,\"jazz\")\n",
    "blues_no = make_genre_no(blues_df,8,\"blues\")"
   ]
  },
  {
   "cell_type": "code",
   "execution_count": null,
   "metadata": {
    "collapsed": true
   },
   "outputs": [],
   "source": [
    "test_rock_df = list_download_blank(lister([\"https://open.spotify.com/user/1296791898/playlist/0DzTbbt5l4w0pQ7JR0Ie38\"]))\n",
    "test_rock_df.to_csv(\"test_rock_df.csv\",encoding=\"utf-8\")\n",
    "test_rap_df = list_download_blank(lister([\"https://open.spotify.com/user/merovingin/playlist/0ZRwrJ2EDGyKR6YgQPWXeO\"]))\n",
    "test_rap_df.to_csv(\"test_rap_df.csv\",encoding=\"utf-8\")\n",
    "test_funk_df = list_download_blank(lister([\"https://open.spotify.com/user/playlistmebrasil/playlist/1Up8P0Ppoxe3205tXKSQlk\"]))\n",
    "test_funk_df.to_csv(\"test_funk_df.csv\",encoding=\"utf-8\")\n",
    "test_metal_df = list_download_blank(lister([\"https://open.spotify.com/user/1289881487/playlist/5W3dQ7pQajtTGTxztziVfz\"]))\n",
    "test_metal_df.to_csv(\"test_metal_df.csv\",encoding=\"utf-8\")\n",
    "test_sertanejo_df = list_download_blank(lister([\"https://open.spotify.com/user/22y5n6obzvznlkwknbqgaqxzi/playlist/6OYGkz18afNDQEgcbXU8nw\"]))\n",
    "test_sertanejo_df.to_csv(\"test_sertanejo_df.csv\",encoding=\"utf-8\")\n",
    "test_relax_df = list_download_blank(lister([\"https://open.spotify.com/user/spotify/playlist/37i9dQZF1DX4sWSpwq3LiO\"]))\n",
    "test_relax_df.to_csv(\"test_relax_df.csv\",encoding=\"utf-8\")\n",
    "test_focus_df = list_download_blank(lister([\"https://open.spotify.com/user/dgdeccaclassics/playlist/4vGoXR0GZikU6TjGyMeIOa\"]))\n",
    "test_focus_df.to_csv(\"test_focus_df.csv\",encoding=\"utf-8\")\n",
    "test_gym_df = list_download_blank(lister([\"https://open.spotify.com/user/neffexmusic/playlist/3cIBg0kQGtPZkawFHbEKHO\"]))\n",
    "test_gym_df.to_csv(\"test_gym_df.csv\",encoding=\"utf-8\")\n",
    "test_party_df = list_download_blank(lister([\"https://open.spotify.com/user/spotify/playlist/37i9dQZF1DXaXB8fQg7xif\"]))\n",
    "test_party_df.to_csv(\"test_party_df.csv\",encoding=\"utf-8\")\n",
    "\n",
    "def multidownloader(lol,lon):\n",
    "    for in range(len(lol)):\n",
    "        temp_df = list_download_blank(lister[lol[i]])\n",
    "        temp_df.to_csv(lon[i]+\"_df.csv\",encoding=\"utf-8\")\n",
    "    return \"multidownloaded\"\n",
    "        "
   ]
  },
  {
   "cell_type": "code",
   "execution_count": null,
   "metadata": {
    "collapsed": true
   },
   "outputs": [],
   "source": [
    "test_eletronica_df = list_download_blank(lister([\"https://open.spotify.com/user/pefalcao/playlist/6kUb9BX3RkRd2tG5FNBpZH\"]))\n",
    "test_eletronica_df.to_csv(\"test_eletronica_df.csv\",encoding=\"utf-8\")"
   ]
  },
  {
   "cell_type": "code",
   "execution_count": null,
   "metadata": {
    "collapsed": true
   },
   "outputs": [],
   "source": []
  },
  {
   "cell_type": "code",
   "execution_count": null,
   "metadata": {
    "collapsed": true
   },
   "outputs": [],
   "source": []
  }
 ],
 "metadata": {
  "kernelspec": {
   "display_name": "Python 3",
   "language": "python",
   "name": "python3"
  },
  "language_info": {
   "codemirror_mode": {
    "name": "ipython",
    "version": 3
   },
   "file_extension": ".py",
   "mimetype": "text/x-python",
   "name": "python",
   "nbconvert_exporter": "python",
   "pygments_lexer": "ipython3",
   "version": "3.6.3"
  }
 },
 "nbformat": 4,
 "nbformat_minor": 2
}
