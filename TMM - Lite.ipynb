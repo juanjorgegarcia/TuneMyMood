{
 "cells": [
  {
   "cell_type": "code",
   "execution_count": 1,
   "metadata": {
    "collapsed": true
   },
   "outputs": [],
   "source": [
    "%matplotlib inline\n",
    "import pandas as pd\n",
    "import matplotlib.pyplot as plt\n",
    "import numpy as np\n",
    "import os\n",
    "from sklearn.naive_bayes import MultinomialNB\n",
    "from sklearn.feature_extraction import DictVectorizer\n",
    "vec=DictVectorizer()\n",
    "import spotipy \n",
    "from spotipy.oauth2 import SpotifyClientCredentials\n",
    "from sklearn.svm import SVC\n"
   ]
  },
  {
   "cell_type": "code",
   "execution_count": 7,
   "metadata": {},
   "outputs": [],
   "source": [
    "###       TuneMyMood 0.83\n",
    "#  date:14/11/2017\n",
    "#\n",
    "#\n",
    "# Opções de Gênero: Rock, Eletronica, Funk, Metal, Sertanejo\n",
    "#\n",
    "#\n",
    "# Opções de tema: Relax, Party, Focus, Gym\n",
    "#\n",
    "#\n",
    "# Definindo dataframes\n",
    "\n",
    "\n",
    "funk_df = pd.read_csv(\"funk_df.csv\")\n",
    "rock_df = pd.read_csv(\"rock_df.csv\")\n",
    "eletronica_df = pd.read_csv(\"eletronica_df.csv\")\n",
    "metal_df = pd.read_csv(\"metal_df.csv\")\n",
    "sertanejo_df = pd.read_csv(\"sertanejo_df.csv\")\n",
    "relax_df = pd.read_csv(\"relax_df.csv\")\n",
    "party_df = pd.read_csv(\"party_df.csv\")\n",
    "focus_df = pd.read_csv(\"focus_df.csv\")\n",
    "gym_df = pd.read_csv(\"gym_df.csv\")\n",
    "\n",
    "# Dataframes contrários para fit\n",
    "\n",
    "not_funk_df = pd.read_csv(\"not_funk_df.csv\")\n",
    "not_rock_df = pd.read_csv(\"not_rock_df.csv\")\n",
    "not_eletronica_df = pd.read_csv(\"not_eletronica_df.csv\")\n",
    "not_metal_df = pd.read_csv(\"not_metal_df.csv\")\n",
    "not_sertanejo_df = pd.read_csv(\"not_sertanejo_df.csv\")\n",
    "not_relax_df = pd.read_csv(\"not_relax_df.csv\")\n",
    "not_party_df = pd.read_csv(\"not_party_df.csv\")\n",
    "not_focus_df = pd.read_csv(\"not_focus_df.csv\")\n",
    "not_gym_df = pd.read_csv(\"not_gym_df.csv\")\n",
    "\n"
   ]
  },
  {
   "cell_type": "code",
   "execution_count": 5,
   "metadata": {
    "collapsed": true
   },
   "outputs": [],
   "source": []
  },
  {
   "cell_type": "code",
   "execution_count": null,
   "metadata": {
    "collapsed": true
   },
   "outputs": [],
   "source": []
  }
 ],
 "metadata": {
  "kernelspec": {
   "display_name": "Python 3",
   "language": "python",
   "name": "python3"
  },
  "language_info": {
   "codemirror_mode": {
    "name": "ipython",
    "version": 3
   },
   "file_extension": ".py",
   "mimetype": "text/x-python",
   "name": "python",
   "nbconvert_exporter": "python",
   "pygments_lexer": "ipython3",
   "version": "3.6.3"
  }
 },
 "nbformat": 4,
 "nbformat_minor": 2
}
