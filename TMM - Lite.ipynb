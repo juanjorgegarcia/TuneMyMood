{
 "cells": [
  {
   "cell_type": "code",
   "execution_count": 1,
   "metadata": {
    "collapsed": true
   },
   "outputs": [],
   "source": [
    "%matplotlib inline\n",
    "import pandas as pd\n",
    "import matplotlib.pyplot as plt\n",
    "import numpy as np\n",
    "import os\n",
    "from sklearn.naive_bayes import MultinomialNB\n",
    "from sklearn.feature_extraction import DictVectorizer\n",
    "vec=DictVectorizer()\n",
    "import spotipy \n",
    "from spotipy.oauth2 import SpotifyClientCredentials\n",
    "from sklearn.svm import SVC\n"
   ]
  },
  {
   "cell_type": "code",
   "execution_count": 12,
   "metadata": {
    "collapsed": true
   },
   "outputs": [],
   "source": [
    "###       TuneMyMood 0.83\n",
    "#  date:14/11/2017\n",
    "#\n",
    "#\n",
    "# Opções de Gênero: Rock, Eletronica, Funk, Metal, Sertanejo\n",
    "#\n",
    "#\n",
    "# Opções de tema: Relax, Party, Focus, Gym\n",
    "#\n",
    "#\n",
    "# Definindo dataframes\n",
    "\n",
    "\n",
    "gy[0] = funk_df = pd.read_csv(\"funk_df.csv\")\n",
    "gy[1] = rock_df = pd.read_csv(\"rock_df.csv\")\n",
    "gy[2] = eletronica_df = pd.read_csv(\"eletronica_df.csv\")\n",
    "gy[3] = metal_df = pd.read_csv(\"metal_df.csv\")\n",
    "gy[4] = sertanejo_df = pd.read_csv(\"sertanejo_df.csv\")\n",
    "gy[5] = rap_df = pd.read_csv(\"rap_df.csv\")\n",
    "my[0] = relax_df = pd.read_csv(\"relax_df.csv\")\n",
    "my[1] = party_df = pd.read_csv(\"party_df.csv\")\n",
    "my[2] = focus_df = pd.read_csv(\"focus_df.csv\")\n",
    "my[3] = gym_df = pd.read_csv(\"gym_df.csv\")\n",
    "\n",
    "# Dataframes contrários para fit\n",
    "\n",
    "gn[0] = not_funk_df = pd.read_csv(\"not_funk_df.csv\")\n",
    "gn[1] = not_rock_df = pd.read_csv(\"not_rock_df.csv\")\n",
    "gn[2] = not_eletronica_df = pd.read_csv(\"not_eletronica_df.csv\")\n",
    "gn[3] = not_metal_df = pd.read_csv(\"not_metal_df.csv\")\n",
    "gn[4] = not_sertanejo_df = pd.read_csv(\"not_sertanejo_df.csv\")\n",
    "gn[5] = not_rap_df = pd.read_csv(\"not_rap.csv\")\n",
    "mn[0] = not_relax_df = pd.read_csv(\"not_relax_df.csv\")\n",
    "mn[1] = not_party_df = pd.read_csv(\"not_party_df.csv\")\n",
    "mn[2] = not_focus_df = pd.read_csv(\"not_focus_df.csv\")\n",
    "mn[3] = not_gym_df = pd.read_csv(\"not_gym_df.csv\")\n",
    "\n",
    "# \n",
    "\n",
    "test_funk_df = pd.read_csv(\"test_funk_df.csv\")\n",
    "test_rock_df = pd.read_csv(\"test_rock_df.csv\")\n",
    "test_eletronica_df = pd.read_csv(\"test_eletronica_df.csv\")\n",
    "test_metal_df = pd.read_csv(\"test_metal_df.csv\")\n",
    "test_sertanejo_df = pd.read_csv(\"test_sertanejo_df.csv\")\n",
    "test_relax_df = pd.read_csv(\"test_relax_df.csv\")\n",
    "test_party_df = pd.read_csv(\"test_party_df.csv\")\n",
    "test_focus_df = pd.read_csv(\"test_focus_df.csv\")\n",
    "test_gym_df = pd.read_csv(\"test_gym_df.csv\")\n",
    "\n",
    "#\n",
    "\n",
    "giant_df = pd.read_csv(\"giant_df.csv\")"
   ]
  },
  {
   "cell_type": "code",
   "execution_count": 13,
   "metadata": {
    "collapsed": true
   },
   "outputs": [],
   "source": [
    "def GiveMePlayList(genre,mood):\n",
    "    # Fit de genero\n",
    "    lg = [\"funk\",\"rock\",\"eletronica\",\"metal\",\"sertanejo\",\"rap\"]\n",
    "    for i in range(len(lg)):\n",
    "        if genre == lg[i]:\n",
    "            x = i\n",
    "    lm = [\"relax\",\"party\",\"focus\",\"gym\"]\n",
    "    for i in range(len(lm)):\n",
    "        if mood == lm[i]:\n",
    "            y = i\n",
    "    genre_s = Dataset(gy[i])\n",
    "    genre_n = Dataset(gn[i])\n",
    "    \n",
    "    return print(\"Dps eu termino\")\n",
    "    "
   ]
  },
  {
   "cell_type": "code",
   "execution_count": null,
   "metadata": {
    "collapsed": true
   },
   "outputs": [],
   "source": [
    "\n",
    "    "
   ]
  }
 ],
 "metadata": {
  "kernelspec": {
   "display_name": "Python 3",
   "language": "python",
   "name": "python3"
  },
  "language_info": {
   "codemirror_mode": {
    "name": "ipython",
    "version": 3
   },
   "file_extension": ".py",
   "mimetype": "text/x-python",
   "name": "python",
   "nbconvert_exporter": "python",
   "pygments_lexer": "ipython3",
   "version": "3.6.3"
  }
 },
 "nbformat": 4,
 "nbformat_minor": 2
}
